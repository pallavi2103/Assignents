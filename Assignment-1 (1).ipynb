{
 "cells": [
  {
   "cell_type": "code",
   "execution_count": 6,
   "id": "42a1945c",
   "metadata": {},
   "outputs": [],
   "source": [
    "import pandas as pd\n",
    "import numpy as np"
   ]
  },
  {
   "cell_type": "code",
   "execution_count": 7,
   "id": "3db21975",
   "metadata": {},
   "outputs": [],
   "source": [
    "from scipy import stats\n",
    "import scipy as scipy"
   ]
  },
  {
   "cell_type": "code",
   "execution_count": 8,
   "id": "af1cdf85",
   "metadata": {},
   "outputs": [
    {
     "data": {
      "text/html": [
       "<div>\n",
       "<style scoped>\n",
       "    .dataframe tbody tr th:only-of-type {\n",
       "        vertical-align: middle;\n",
       "    }\n",
       "\n",
       "    .dataframe tbody tr th {\n",
       "        vertical-align: top;\n",
       "    }\n",
       "\n",
       "    .dataframe thead th {\n",
       "        text-align: right;\n",
       "    }\n",
       "</style>\n",
       "<table border=\"1\" class=\"dataframe\">\n",
       "  <thead>\n",
       "    <tr style=\"text-align: right;\">\n",
       "      <th></th>\n",
       "      <th>Date</th>\n",
       "      <th>Day</th>\n",
       "      <th>SKU</th>\n",
       "      <th>City</th>\n",
       "      <th>Volume</th>\n",
       "      <th>BU</th>\n",
       "      <th>Brand</th>\n",
       "      <th>Model</th>\n",
       "      <th>Avg Price</th>\n",
       "      <th>Total Sales Value</th>\n",
       "      <th>Discount Rate (%)</th>\n",
       "      <th>Discount Amount</th>\n",
       "      <th>Net Sales Value</th>\n",
       "    </tr>\n",
       "  </thead>\n",
       "  <tbody>\n",
       "    <tr>\n",
       "      <th>0</th>\n",
       "      <td>01-04-2021</td>\n",
       "      <td>Thursday</td>\n",
       "      <td>M01</td>\n",
       "      <td>C</td>\n",
       "      <td>15</td>\n",
       "      <td>Mobiles</td>\n",
       "      <td>RealU</td>\n",
       "      <td>RU-10</td>\n",
       "      <td>12100</td>\n",
       "      <td>181500</td>\n",
       "      <td>11.654820</td>\n",
       "      <td>21153.498820</td>\n",
       "      <td>160346.501180</td>\n",
       "    </tr>\n",
       "    <tr>\n",
       "      <th>1</th>\n",
       "      <td>01-04-2021</td>\n",
       "      <td>Thursday</td>\n",
       "      <td>M02</td>\n",
       "      <td>C</td>\n",
       "      <td>10</td>\n",
       "      <td>Mobiles</td>\n",
       "      <td>RealU</td>\n",
       "      <td>RU-9 Plus</td>\n",
       "      <td>10100</td>\n",
       "      <td>101000</td>\n",
       "      <td>11.560498</td>\n",
       "      <td>11676.102961</td>\n",
       "      <td>89323.897039</td>\n",
       "    </tr>\n",
       "    <tr>\n",
       "      <th>2</th>\n",
       "      <td>01-04-2021</td>\n",
       "      <td>Thursday</td>\n",
       "      <td>M03</td>\n",
       "      <td>C</td>\n",
       "      <td>7</td>\n",
       "      <td>Mobiles</td>\n",
       "      <td>YouM</td>\n",
       "      <td>YM-99</td>\n",
       "      <td>16100</td>\n",
       "      <td>112700</td>\n",
       "      <td>9.456886</td>\n",
       "      <td>10657.910157</td>\n",
       "      <td>102042.089843</td>\n",
       "    </tr>\n",
       "    <tr>\n",
       "      <th>3</th>\n",
       "      <td>01-04-2021</td>\n",
       "      <td>Thursday</td>\n",
       "      <td>M04</td>\n",
       "      <td>C</td>\n",
       "      <td>6</td>\n",
       "      <td>Mobiles</td>\n",
       "      <td>YouM</td>\n",
       "      <td>YM-99 Plus</td>\n",
       "      <td>20100</td>\n",
       "      <td>120600</td>\n",
       "      <td>6.935385</td>\n",
       "      <td>8364.074702</td>\n",
       "      <td>112235.925298</td>\n",
       "    </tr>\n",
       "    <tr>\n",
       "      <th>4</th>\n",
       "      <td>01-04-2021</td>\n",
       "      <td>Thursday</td>\n",
       "      <td>M05</td>\n",
       "      <td>C</td>\n",
       "      <td>3</td>\n",
       "      <td>Mobiles</td>\n",
       "      <td>YouM</td>\n",
       "      <td>YM-98</td>\n",
       "      <td>8100</td>\n",
       "      <td>24300</td>\n",
       "      <td>17.995663</td>\n",
       "      <td>4372.946230</td>\n",
       "      <td>19927.053770</td>\n",
       "    </tr>\n",
       "    <tr>\n",
       "      <th>...</th>\n",
       "      <td>...</td>\n",
       "      <td>...</td>\n",
       "      <td>...</td>\n",
       "      <td>...</td>\n",
       "      <td>...</td>\n",
       "      <td>...</td>\n",
       "      <td>...</td>\n",
       "      <td>...</td>\n",
       "      <td>...</td>\n",
       "      <td>...</td>\n",
       "      <td>...</td>\n",
       "      <td>...</td>\n",
       "      <td>...</td>\n",
       "    </tr>\n",
       "    <tr>\n",
       "      <th>445</th>\n",
       "      <td>15-04-2021</td>\n",
       "      <td>Thursday</td>\n",
       "      <td>L06</td>\n",
       "      <td>C</td>\n",
       "      <td>2</td>\n",
       "      <td>Lifestyle</td>\n",
       "      <td>Jeera</td>\n",
       "      <td>M-Casuals</td>\n",
       "      <td>1300</td>\n",
       "      <td>2600</td>\n",
       "      <td>15.475687</td>\n",
       "      <td>402.367873</td>\n",
       "      <td>2197.632127</td>\n",
       "    </tr>\n",
       "    <tr>\n",
       "      <th>446</th>\n",
       "      <td>15-04-2021</td>\n",
       "      <td>Thursday</td>\n",
       "      <td>L07</td>\n",
       "      <td>C</td>\n",
       "      <td>6</td>\n",
       "      <td>Lifestyle</td>\n",
       "      <td>Viva</td>\n",
       "      <td>W-Western</td>\n",
       "      <td>2600</td>\n",
       "      <td>15600</td>\n",
       "      <td>17.057027</td>\n",
       "      <td>2660.896242</td>\n",
       "      <td>12939.103758</td>\n",
       "    </tr>\n",
       "    <tr>\n",
       "      <th>447</th>\n",
       "      <td>15-04-2021</td>\n",
       "      <td>Thursday</td>\n",
       "      <td>L08</td>\n",
       "      <td>C</td>\n",
       "      <td>2</td>\n",
       "      <td>Lifestyle</td>\n",
       "      <td>Viva</td>\n",
       "      <td>W-Lounge</td>\n",
       "      <td>1600</td>\n",
       "      <td>3200</td>\n",
       "      <td>18.965550</td>\n",
       "      <td>606.897606</td>\n",
       "      <td>2593.102394</td>\n",
       "    </tr>\n",
       "    <tr>\n",
       "      <th>448</th>\n",
       "      <td>15-04-2021</td>\n",
       "      <td>Thursday</td>\n",
       "      <td>L09</td>\n",
       "      <td>C</td>\n",
       "      <td>3</td>\n",
       "      <td>Lifestyle</td>\n",
       "      <td>Jeera</td>\n",
       "      <td>M-Formals</td>\n",
       "      <td>1900</td>\n",
       "      <td>5700</td>\n",
       "      <td>16.793014</td>\n",
       "      <td>957.201826</td>\n",
       "      <td>4742.798174</td>\n",
       "    </tr>\n",
       "    <tr>\n",
       "      <th>449</th>\n",
       "      <td>15-04-2021</td>\n",
       "      <td>Thursday</td>\n",
       "      <td>L10</td>\n",
       "      <td>C</td>\n",
       "      <td>1</td>\n",
       "      <td>Lifestyle</td>\n",
       "      <td>Jeera</td>\n",
       "      <td>M-Shoes</td>\n",
       "      <td>3100</td>\n",
       "      <td>3100</td>\n",
       "      <td>15.333300</td>\n",
       "      <td>475.332295</td>\n",
       "      <td>2624.667705</td>\n",
       "    </tr>\n",
       "  </tbody>\n",
       "</table>\n",
       "<p>450 rows × 13 columns</p>\n",
       "</div>"
      ],
      "text/plain": [
       "           Date       Day  SKU City  Volume         BU  Brand       Model  \\\n",
       "0    01-04-2021  Thursday  M01    C      15    Mobiles  RealU       RU-10   \n",
       "1    01-04-2021  Thursday  M02    C      10    Mobiles  RealU   RU-9 Plus   \n",
       "2    01-04-2021  Thursday  M03    C       7    Mobiles   YouM       YM-99   \n",
       "3    01-04-2021  Thursday  M04    C       6    Mobiles   YouM  YM-99 Plus   \n",
       "4    01-04-2021  Thursday  M05    C       3    Mobiles   YouM      YM-98    \n",
       "..          ...       ...  ...  ...     ...        ...    ...         ...   \n",
       "445  15-04-2021  Thursday  L06    C       2  Lifestyle  Jeera   M-Casuals   \n",
       "446  15-04-2021  Thursday  L07    C       6  Lifestyle   Viva   W-Western   \n",
       "447  15-04-2021  Thursday  L08    C       2  Lifestyle   Viva    W-Lounge   \n",
       "448  15-04-2021  Thursday  L09    C       3  Lifestyle  Jeera   M-Formals   \n",
       "449  15-04-2021  Thursday  L10    C       1  Lifestyle  Jeera     M-Shoes   \n",
       "\n",
       "     Avg Price  Total Sales Value  Discount Rate (%)  Discount Amount  \\\n",
       "0        12100             181500          11.654820     21153.498820   \n",
       "1        10100             101000          11.560498     11676.102961   \n",
       "2        16100             112700           9.456886     10657.910157   \n",
       "3        20100             120600           6.935385      8364.074702   \n",
       "4         8100              24300          17.995663      4372.946230   \n",
       "..         ...                ...                ...              ...   \n",
       "445       1300               2600          15.475687       402.367873   \n",
       "446       2600              15600          17.057027      2660.896242   \n",
       "447       1600               3200          18.965550       606.897606   \n",
       "448       1900               5700          16.793014       957.201826   \n",
       "449       3100               3100          15.333300       475.332295   \n",
       "\n",
       "     Net Sales Value  \n",
       "0      160346.501180  \n",
       "1       89323.897039  \n",
       "2      102042.089843  \n",
       "3      112235.925298  \n",
       "4       19927.053770  \n",
       "..               ...  \n",
       "445      2197.632127  \n",
       "446     12939.103758  \n",
       "447      2593.102394  \n",
       "448      4742.798174  \n",
       "449      2624.667705  \n",
       "\n",
       "[450 rows x 13 columns]"
      ]
     },
     "execution_count": 8,
     "metadata": {},
     "output_type": "execute_result"
    }
   ],
   "source": [
    "sales=pd.read_csv(\"sales_data_with_discounts.csv\")\n",
    "sales"
   ]
  },
  {
   "cell_type": "markdown",
   "id": "1c5c23c8",
   "metadata": {},
   "source": [
    "# Descriptive Analytics for Numerical Columns"
   ]
  },
  {
   "cell_type": "markdown",
   "id": "b641e827",
   "metadata": {},
   "source": [
    "# Mean for Numerical Data"
   ]
  },
  {
   "cell_type": "code",
   "execution_count": 9,
   "id": "316803f2",
   "metadata": {},
   "outputs": [
    {
     "data": {
      "text/plain": [
       "Volume                   5.066667\n",
       "Avg Price            10453.433333\n",
       "Total Sales Value    33812.835556\n",
       "Discount Rate (%)       15.155242\n",
       "Discount Amount       3346.499424\n",
       "Net Sales Value      30466.336131\n",
       "dtype: float64"
      ]
     },
     "execution_count": 9,
     "metadata": {},
     "output_type": "execute_result"
    }
   ],
   "source": [
    "sales.select_dtypes(include=['number']).mean()"
   ]
  },
  {
   "cell_type": "markdown",
   "id": "16dcadcd",
   "metadata": {},
   "source": [
    "# Median for Numerical Data"
   ]
  },
  {
   "cell_type": "code",
   "execution_count": 10,
   "id": "941ecbba",
   "metadata": {},
   "outputs": [
    {
     "data": {
      "text/plain": [
       "Volume                  4.000000\n",
       "Avg Price            1450.000000\n",
       "Total Sales Value    5700.000000\n",
       "Discount Rate (%)      16.577766\n",
       "Discount Amount       988.933733\n",
       "Net Sales Value      4677.788059\n",
       "dtype: float64"
      ]
     },
     "execution_count": 10,
     "metadata": {},
     "output_type": "execute_result"
    }
   ],
   "source": [
    "sales.select_dtypes(include=['number']).median()"
   ]
  },
  {
   "cell_type": "markdown",
   "id": "2671fb4f",
   "metadata": {},
   "source": [
    "# Mode for Numerical Data"
   ]
  },
  {
   "cell_type": "code",
   "execution_count": 11,
   "id": "3c5c78e5",
   "metadata": {},
   "outputs": [
    {
     "data": {
      "text/html": [
       "<div>\n",
       "<style scoped>\n",
       "    .dataframe tbody tr th:only-of-type {\n",
       "        vertical-align: middle;\n",
       "    }\n",
       "\n",
       "    .dataframe tbody tr th {\n",
       "        vertical-align: top;\n",
       "    }\n",
       "\n",
       "    .dataframe thead th {\n",
       "        text-align: right;\n",
       "    }\n",
       "</style>\n",
       "<table border=\"1\" class=\"dataframe\">\n",
       "  <thead>\n",
       "    <tr style=\"text-align: right;\">\n",
       "      <th></th>\n",
       "      <th>Volume</th>\n",
       "      <th>Avg Price</th>\n",
       "      <th>Total Sales Value</th>\n",
       "      <th>Discount Rate (%)</th>\n",
       "      <th>Discount Amount</th>\n",
       "      <th>Net Sales Value</th>\n",
       "    </tr>\n",
       "  </thead>\n",
       "  <tbody>\n",
       "    <tr>\n",
       "      <th>0</th>\n",
       "      <td>3.0</td>\n",
       "      <td>400.0</td>\n",
       "      <td>24300.0</td>\n",
       "      <td>5.007822</td>\n",
       "      <td>69.177942</td>\n",
       "      <td>326.974801</td>\n",
       "    </tr>\n",
       "    <tr>\n",
       "      <th>1</th>\n",
       "      <td>NaN</td>\n",
       "      <td>450.0</td>\n",
       "      <td>NaN</td>\n",
       "      <td>5.055218</td>\n",
       "      <td>73.025199</td>\n",
       "      <td>330.822058</td>\n",
       "    </tr>\n",
       "    <tr>\n",
       "      <th>2</th>\n",
       "      <td>NaN</td>\n",
       "      <td>500.0</td>\n",
       "      <td>NaN</td>\n",
       "      <td>5.059801</td>\n",
       "      <td>93.649161</td>\n",
       "      <td>466.350839</td>\n",
       "    </tr>\n",
       "    <tr>\n",
       "      <th>3</th>\n",
       "      <td>NaN</td>\n",
       "      <td>1300.0</td>\n",
       "      <td>NaN</td>\n",
       "      <td>5.072124</td>\n",
       "      <td>94.682735</td>\n",
       "      <td>485.317265</td>\n",
       "    </tr>\n",
       "    <tr>\n",
       "      <th>4</th>\n",
       "      <td>NaN</td>\n",
       "      <td>8100.0</td>\n",
       "      <td>NaN</td>\n",
       "      <td>5.084108</td>\n",
       "      <td>102.705757</td>\n",
       "      <td>496.607104</td>\n",
       "    </tr>\n",
       "    <tr>\n",
       "      <th>...</th>\n",
       "      <td>...</td>\n",
       "      <td>...</td>\n",
       "      <td>...</td>\n",
       "      <td>...</td>\n",
       "      <td>...</td>\n",
       "      <td>...</td>\n",
       "    </tr>\n",
       "    <tr>\n",
       "      <th>445</th>\n",
       "      <td>NaN</td>\n",
       "      <td>NaN</td>\n",
       "      <td>NaN</td>\n",
       "      <td>19.940610</td>\n",
       "      <td>17900.983733</td>\n",
       "      <td>162603.186379</td>\n",
       "    </tr>\n",
       "    <tr>\n",
       "      <th>446</th>\n",
       "      <td>NaN</td>\n",
       "      <td>NaN</td>\n",
       "      <td>NaN</td>\n",
       "      <td>19.965340</td>\n",
       "      <td>21153.498820</td>\n",
       "      <td>163915.971000</td>\n",
       "    </tr>\n",
       "    <tr>\n",
       "      <th>447</th>\n",
       "      <td>NaN</td>\n",
       "      <td>NaN</td>\n",
       "      <td>NaN</td>\n",
       "      <td>19.976879</td>\n",
       "      <td>21496.675367</td>\n",
       "      <td>163967.080070</td>\n",
       "    </tr>\n",
       "    <tr>\n",
       "      <th>448</th>\n",
       "      <td>NaN</td>\n",
       "      <td>NaN</td>\n",
       "      <td>NaN</td>\n",
       "      <td>19.982257</td>\n",
       "      <td>25328.224204</td>\n",
       "      <td>166263.161348</td>\n",
       "    </tr>\n",
       "    <tr>\n",
       "      <th>449</th>\n",
       "      <td>NaN</td>\n",
       "      <td>NaN</td>\n",
       "      <td>NaN</td>\n",
       "      <td>19.992407</td>\n",
       "      <td>25738.022194</td>\n",
       "      <td>179507.479049</td>\n",
       "    </tr>\n",
       "  </tbody>\n",
       "</table>\n",
       "<p>450 rows × 6 columns</p>\n",
       "</div>"
      ],
      "text/plain": [
       "     Volume  Avg Price  Total Sales Value  Discount Rate (%)  Discount Amount  \\\n",
       "0       3.0      400.0            24300.0           5.007822        69.177942   \n",
       "1       NaN      450.0                NaN           5.055218        73.025199   \n",
       "2       NaN      500.0                NaN           5.059801        93.649161   \n",
       "3       NaN     1300.0                NaN           5.072124        94.682735   \n",
       "4       NaN     8100.0                NaN           5.084108       102.705757   \n",
       "..      ...        ...                ...                ...              ...   \n",
       "445     NaN        NaN                NaN          19.940610     17900.983733   \n",
       "446     NaN        NaN                NaN          19.965340     21153.498820   \n",
       "447     NaN        NaN                NaN          19.976879     21496.675367   \n",
       "448     NaN        NaN                NaN          19.982257     25328.224204   \n",
       "449     NaN        NaN                NaN          19.992407     25738.022194   \n",
       "\n",
       "     Net Sales Value  \n",
       "0         326.974801  \n",
       "1         330.822058  \n",
       "2         466.350839  \n",
       "3         485.317265  \n",
       "4         496.607104  \n",
       "..               ...  \n",
       "445    162603.186379  \n",
       "446    163915.971000  \n",
       "447    163967.080070  \n",
       "448    166263.161348  \n",
       "449    179507.479049  \n",
       "\n",
       "[450 rows x 6 columns]"
      ]
     },
     "execution_count": 11,
     "metadata": {},
     "output_type": "execute_result"
    }
   ],
   "source": [
    "sales.select_dtypes(include=['number']).mode()"
   ]
  },
  {
   "cell_type": "markdown",
   "id": "7d5f9a4a",
   "metadata": {},
   "source": [
    "# Standard Deviation for Numerical Data"
   ]
  },
  {
   "cell_type": "code",
   "execution_count": 12,
   "id": "69cdb230",
   "metadata": {},
   "outputs": [
    {
     "data": {
      "text/plain": [
       "Volume                   4.231602\n",
       "Avg Price            18079.904840\n",
       "Total Sales Value    50535.074173\n",
       "Discount Rate (%)        4.220602\n",
       "Discount Amount       4509.902963\n",
       "Net Sales Value      46358.656624\n",
       "dtype: float64"
      ]
     },
     "execution_count": 12,
     "metadata": {},
     "output_type": "execute_result"
    }
   ],
   "source": [
    "sales.select_dtypes(include=['number']).std()"
   ]
  },
  {
   "cell_type": "markdown",
   "id": "58ff2fb2",
   "metadata": {},
   "source": [
    "# Breif interpretation about the statistics"
   ]
  },
  {
   "cell_type": "markdown",
   "id": "b64ebfa4",
   "metadata": {},
   "source": [
    "Mean (Average):\n",
    "The mean (or average) is a measure of central tendency.\n",
    "It represents the sum of all values divided by the total number of values.\n",
    "Median:\n",
    "The median is another measure of central tendency.\n",
    "It is the middle value when the data is sorted in ascending or descending order.\n",
    "If there is an even number of data points, the median is the average of the two middle values.\n",
    "The median is less affected by extreme values (outliers) than the mean.\n",
    "Mode:\n",
    "The mode is the value that appears most frequently in a dataset.\n",
    "A dataset can have one mode (unimodal), multiple modes (multimodal), or no mode.\n",
    "The mode is useful for identifying common or recurring values.\n",
    "Standard Deviation:\n",
    "The standard deviation measures the spread or dispersion of data points.\n",
    "It quantifies how much the values deviate from the mean.\n",
    "A higher standard deviation indicates greater variability"
   ]
  },
  {
   "cell_type": "markdown",
   "id": "7d73a820",
   "metadata": {},
   "source": [
    "# Data Visualization"
   ]
  },
  {
   "cell_type": "markdown",
   "id": "cf5b2f16",
   "metadata": {},
   "source": [
    "# Histograms"
   ]
  },
  {
   "cell_type": "code",
   "execution_count": 13,
   "id": "ff371a97",
   "metadata": {},
   "outputs": [],
   "source": [
    "import matplotlib.pyplot as plt"
   ]
  },
  {
   "cell_type": "code",
   "execution_count": 14,
   "id": "529c3835",
   "metadata": {},
   "outputs": [
    {
     "data": {
      "text/plain": [
       "(array([213., 137.,  49.,  26.,  15.,   2.,   0.,   4.,   1.,   3.]),\n",
       " array([ 1.,  4.,  7., 10., 13., 16., 19., 22., 25., 28., 31.]),\n",
       " <BarContainer object of 10 artists>)"
      ]
     },
     "execution_count": 14,
     "metadata": {},
     "output_type": "execute_result"
    },
    {
     "data": {
      "image/png": "[encoded data removed]",
      "text/plain": [
       "<Figure size 640x480 with 1 Axes>"
      ]
     },
     "metadata": {},
     "output_type": "display_data"
    }
   ],
   "source": [
    "plt.hist(sales['Volume'])"
   ]
  },
  {
   "cell_type": "markdown",
   "id": "95a0a011",
   "metadata": {},
   "source": [
    "Skewness:\n",
    "Skewness measures the asymmetry of the data distribution.\n",
    "A positive skew indicates that the data is skewed to the right (tail on the right side).\n",
    "A negative skew indicates that the data is skewed to the left (tail on the left side).\n",
    "In this case, the skewness value is not provided, so we’ll interpret based on the histogram.\n",
    "Presence of Outliers:\n",
    "Outliers are extreme values that significantly differ from the rest of the data.\n",
    "We can identify outliers by examining the data points that fall far away from the central mass of the distribution.\n",
    "Based on the histogram:\n",
    "The data appears to be positively skewed (right-skewed).\n",
    "The majority of data points are clustered around the lower values (left side), with fewer data points in the higher range.\n",
    "There are a few data points on the right side (higher values) that deviate from the main cluster."
   ]
  },
  {
   "cell_type": "code",
   "execution_count": 15,
   "id": "4627a982",
   "metadata": {},
   "outputs": [
    {
     "data": {
      "text/plain": [
       "(array([300.,  60.,  15.,  15.,   0.,   0.,   0.,   0.,  30.,  30.]),\n",
       " array([  290.,  6271., 12252., 18233., 24214., 30195., 36176., 42157.,\n",
       "        48138., 54119., 60100.]),\n",
       " <BarContainer object of 10 artists>)"
      ]
     },
     "execution_count": 15,
     "metadata": {},
     "output_type": "execute_result"
    },
    {
     "data": {
      "image/png": "[encoded data removed]",
      "text/plain": [
       "<Figure size 640x480 with 1 Axes>"
      ]
     },
     "metadata": {},
     "output_type": "display_data"
    }
   ],
   "source": [
    "plt.hist(sales['Avg Price'])"
   ]
  },
  {
   "cell_type": "markdown",
   "id": "71ede33e",
   "metadata": {},
   "source": [
    "Skewness:\n",
    "The histogram shows that the data is positively skewed (right-skewed).\n",
    "Most of the data points are clustered around the lower values (left side of the histogram).\n",
    "There are fewer data points in the higher range (right side).\n",
    "Outliers:\n",
    "Outliers are extreme values that significantly differ from the rest of the data.\n",
    "In this case, we can observe that there are a few data points on the right side (higher values) that deviate from the main cluster.\n",
    "These extreme values may be considered outliers."
   ]
  },
  {
   "cell_type": "code",
   "execution_count": 16,
   "id": "ee71488a",
   "metadata": {},
   "outputs": [
    {
     "data": {
      "text/plain": [
       "(array([305.,  24.,  15.,  18.,  12.,  27.,  15.,  15.,  11.,   8.]),\n",
       " array([   400.,  20000.,  39600.,  59200.,  78800.,  98400., 118000.,\n",
       "        137600., 157200., 176800., 196400.]),\n",
       " <BarContainer object of 10 artists>)"
      ]
     },
     "execution_count": 16,
     "metadata": {},
     "output_type": "execute_result"
    },
    {
     "data": {
      "image/png": "[encoded data removed]",
      "text/plain": [
       "<Figure size 640x480 with 1 Axes>"
      ]
     },
     "metadata": {},
     "output_type": "display_data"
    }
   ],
   "source": [
    "plt.hist(sales['Total Sales Value'])"
   ]
  },
  {
   "cell_type": "markdown",
   "id": "208b3a44",
   "metadata": {},
   "source": [
    "Skewness:\n",
    "The histogram shows that the data is positively skewed (right-skewed).\n",
    "Most of the data points are clustered around the lower values (left side of the histogram).\n",
    "There are fewer data points in the higher range (right side).\n",
    "Outliers:\n",
    "Outliers are extreme values that significantly differ from the rest of the data.\n",
    "In this case, we can observe that there are a few data points on the right side (higher values) that deviate from the main cluster.\n",
    "These extreme values may be considered outliers.\n"
   ]
  },
  {
   "cell_type": "code",
   "execution_count": 17,
   "id": "088863b2",
   "metadata": {},
   "outputs": [
    {
     "data": {
      "text/plain": [
       "(array([ 27.,  24.,  29.,  14.,  14.,   6.,  38.,  96., 115.,  87.]),\n",
       " array([ 5.00782219,  6.50628067,  8.00473916,  9.50319765, 11.00165613,\n",
       "        12.50011462, 13.9985731 , 15.49703159, 16.99549007, 18.49394856,\n",
       "        19.99240704]),\n",
       " <BarContainer object of 10 artists>)"
      ]
     },
     "execution_count": 17,
     "metadata": {},
     "output_type": "execute_result"
    },
    {
     "data": {
      "image/png": "[encoded data removed]",
      "text/plain": [
       "<Figure size 640x480 with 1 Axes>"
      ]
     },
     "metadata": {},
     "output_type": "display_data"
    }
   ],
   "source": [
    "plt.hist(sales['Discount Rate (%)'])"
   ]
  },
  {
   "cell_type": "markdown",
   "id": "637a228d",
   "metadata": {},
   "source": [
    "Skewness:\n",
    "The histogram shows that the data is positively skewed (right-skewed).\n",
    "Most of the data points are clustered around the lower values (left side of the histogram).\n",
    "There are fewer data points in the higher range (right side).\n",
    "Outliers:\n",
    "Outliers are extreme values that significantly differ from the rest of the data.\n",
    "In this case, we can observe that there are a few data points on the right side (higher values) that deviate from the main cluster.\n",
    "These extreme values may be considered outliers."
   ]
  },
  {
   "cell_type": "code",
   "execution_count": 18,
   "id": "d0b7cb04",
   "metadata": {},
   "outputs": [
    {
     "data": {
      "text/plain": [
       "(array([299.,  37.,  42.,  29.,  22.,   8.,   9.,   0.,   2.,   2.]),\n",
       " array([   69.17794229,  2636.06236744,  5202.94679258,  7769.83121773,\n",
       "        10336.71564288, 12903.60006802, 15470.48449317, 18037.36891832,\n",
       "        20604.25334346, 23171.13776861, 25738.02219376]),\n",
       " <BarContainer object of 10 artists>)"
      ]
     },
     "execution_count": 18,
     "metadata": {},
     "output_type": "execute_result"
    },
    {
     "data": {
      "image/png": "[encoded data removed]",
      "text/plain": [
       "<Figure size 640x480 with 1 Axes>"
      ]
     },
     "metadata": {},
     "output_type": "display_data"
    }
   ],
   "source": [
    "plt.hist(sales['Discount Amount'])"
   ]
  },
  {
   "cell_type": "markdown",
   "id": "e59b5cbf",
   "metadata": {},
   "source": [
    "Skewness:\n",
    "The histogram shows that the data is positively skewed (right-skewed).\n",
    "Most of the data points are clustered around the lower values (left side of the histogram).\n",
    "There are fewer data points in the higher range (right side).\n",
    "Outliers:\n",
    "Outliers are extreme values that significantly differ from the rest of the data.\n",
    "In this case, we can observe that there are a few data points on the right side (higher values) that deviate from the main cluster.\n",
    "These extreme values may be considered outliers.\n"
   ]
  },
  {
   "cell_type": "code",
   "execution_count": 19,
   "id": "ef4eebae",
   "metadata": {},
   "outputs": [
    {
     "data": {
      "text/plain": [
       "(array([306.,  26.,  17.,  14.,   8.,  30.,  16.,  15.,  12.,   6.]),\n",
       " array([   326.97480055,  18245.0252254 ,  36163.07565025,  54081.1260751 ,\n",
       "         71999.17649994,  89917.22692479, 107835.27734964, 125753.32777448,\n",
       "        143671.37819933, 161589.42862418, 179507.47904902]),\n",
       " <BarContainer object of 10 artists>)"
      ]
     },
     "execution_count": 19,
     "metadata": {},
     "output_type": "execute_result"
    },
    {
     "data": {
      "image/png": "[encoded data removed]",
      "text/plain": [
       "<Figure size 640x480 with 1 Axes>"
      ]
     },
     "metadata": {},
     "output_type": "display_data"
    }
   ],
   "source": [
    "plt.hist(sales['Net Sales Value'])"
   ]
  },
  {
   "cell_type": "markdown",
   "id": "a901e27d",
   "metadata": {},
   "source": [
    "Skewness:\n",
    "The histogram shows that the data is positively skewed (right-skewed).\n",
    "Most of the data points are clustered around the lower values (left side of the histogram).\n",
    "There are fewer data points in the higher range (right side).\n",
    "Outliers:\n",
    "Outliers are extreme values that significantly differ from the rest of the data.\n",
    "In this case, we can observe that there are a few data points on the right side (higher values) that deviate from the main cluster.\n",
    "These extreme values may be considered outliers."
   ]
  },
  {
   "cell_type": "markdown",
   "id": "dd819a1f",
   "metadata": {},
   "source": [
    "# Bar Chart"
   ]
  },
  {
   "cell_type": "code",
   "execution_count": 20,
   "id": "eea5b74b",
   "metadata": {},
   "outputs": [
    {
     "data": {
      "text/plain": [
       "<Axes: xlabel='Day'>"
      ]
     },
     "execution_count": 20,
     "metadata": {},
     "output_type": "execute_result"
    },
    {
     "data": {
      "image/png": "[encoded data removed]",
      "text/plain": [
       "<Figure size 640x480 with 1 Axes>"
      ]
     },
     "metadata": {},
     "output_type": "display_data"
    }
   ],
   "source": [
    "pd.crosstab(sales.Day,sales.City).plot(kind='bar')"
   ]
  },
  {
   "cell_type": "code",
   "execution_count": 21,
   "id": "8924ab40",
   "metadata": {},
   "outputs": [
    {
     "data": {
      "text/plain": [
       "<Axes: xlabel='BU'>"
      ]
     },
     "execution_count": 21,
     "metadata": {},
     "output_type": "execute_result"
    },
    {
     "data": {
      "image/png": "[encoded data removed]",
      "text/plain": [
       "<Figure size 640x480 with 1 Axes>"
      ]
     },
     "metadata": {},
     "output_type": "display_data"
    }
   ],
   "source": [
    "pd.crosstab(sales.BU,sales.Brand).plot(kind='bar')"
   ]
  },
  {
   "cell_type": "code",
   "execution_count": 22,
   "id": "9be5319f",
   "metadata": {},
   "outputs": [
    {
     "data": {
      "text/plain": [
       "<Axes: xlabel='SKU'>"
      ]
     },
     "execution_count": 22,
     "metadata": {},
     "output_type": "execute_result"
    },
    {
     "data": {
      "image/png": "[encoded data removed]",
      "text/plain": [
       "<Figure size 640x480 with 1 Axes>"
      ]
     },
     "metadata": {},
     "output_type": "display_data"
    }
   ],
   "source": [
    "pd.crosstab(sales.SKU,sales.Model).plot(kind='bar')"
   ]
  },
  {
   "cell_type": "markdown",
   "id": "07070dae",
   "metadata": {},
   "source": [
    "# Box Plot"
   ]
  },
  {
   "cell_type": "code",
   "execution_count": 23,
   "id": "93ec1b6c",
   "metadata": {},
   "outputs": [
    {
     "data": {
      "text/plain": [
       "{'whiskers': [<matplotlib.lines.Line2D at 0x13d59c4f110>,\n",
       "  <matplotlib.lines.Line2D at 0x13d59c40fd0>],\n",
       " 'caps': [<matplotlib.lines.Line2D at 0x13d59c41510>,\n",
       "  <matplotlib.lines.Line2D at 0x13d59c42250>],\n",
       " 'boxes': [<matplotlib.lines.Line2D at 0x13d59c0aed0>],\n",
       " 'medians': [<matplotlib.lines.Line2D at 0x13d59c42910>],\n",
       " 'fliers': [<matplotlib.lines.Line2D at 0x13d59c4cf90>],\n",
       " 'means': []}"
      ]
     },
     "execution_count": 23,
     "metadata": {},
     "output_type": "execute_result"
    },
    {
     "data": {
      "image/png": "[encoded data removed]",
      "text/plain": [
       "<Figure size 640x480 with 1 Axes>"
      ]
     },
     "metadata": {},
     "output_type": "display_data"
    }
   ],
   "source": [
    "plt.boxplot(sales['Volume'])"
   ]
  },
  {
   "cell_type": "markdown",
   "id": "ee83dda9",
   "metadata": {},
   "source": [
    "Box Plot Interpretation:\n",
    "The box plot represents the distribution of a dataset.\n",
    "The box (interquartile range) contains the middle 50% of the data.\n",
    "The whiskers extend to the minimum and maximum values within a certain range.\n",
    "Outliers (extreme values) are shown as individual points beyond the whiskers.\n",
    "Observations:\n",
    "The data distribution is positively skewed (right-skewed).\n",
    "Most of the data points are concentrated in the lower range (left side of the box).\n",
    "There are a few extreme values (outliers) on the right side (higher values).\n",
    "Insights:\n",
    "The majority of transactions fall within a relatively narrow range.\n",
    "The presence of outliers suggests exceptional cases with significantly higher values.\n",
    "Further investigation is needed to understand the context of these extreme values."
   ]
  },
  {
   "cell_type": "code",
   "execution_count": 24,
   "id": "2097eea4",
   "metadata": {},
   "outputs": [
    {
     "data": {
      "text/plain": [
       "{'whiskers': [<matplotlib.lines.Line2D at 0x13d59c67410>,\n",
       "  <matplotlib.lines.Line2D at 0x13d59c77850>],\n",
       " 'caps': [<matplotlib.lines.Line2D at 0x13d59c5bad0>,\n",
       "  <matplotlib.lines.Line2D at 0x13d59c88b10>],\n",
       " 'boxes': [<matplotlib.lines.Line2D at 0x13d59c76810>],\n",
       " 'medians': [<matplotlib.lines.Line2D at 0x13d59c89350>],\n",
       " 'fliers': [<matplotlib.lines.Line2D at 0x13d59c77f90>],\n",
       " 'means': []}"
      ]
     },
     "execution_count": 24,
     "metadata": {},
     "output_type": "execute_result"
    },
    {
     "data": {
      "image/png": "[encoded data removed]",
      "text/plain": [
       "<Figure size 640x480 with 1 Axes>"
      ]
     },
     "metadata": {},
     "output_type": "display_data"
    }
   ],
   "source": [
    "plt.boxplot(sales['Avg Price'])"
   ]
  },
  {
   "cell_type": "markdown",
   "id": "57a06d10",
   "metadata": {},
   "source": [
    "Box Plot Interpretation:\n",
    "The box plot represents the distribution of a dataset.\n",
    "The box (interquartile range) contains the middle 50% of the data.\n",
    "The whiskers extend to the minimum and maximum values within a certain range.\n",
    "Outliers (extreme values) are shown as individual points beyond the whiskers.\n",
    "Observations:\n",
    "The data distribution is positively skewed (right-skewed).\n",
    "Most of the data points are concentrated in the lower range (left side of the box).\n",
    "There are a few extreme values (outliers) on the right side (higher values).\n",
    "Insights:\n",
    "The majority of transactions fall within a relatively narrow range.\n",
    "The presence of outliers suggests exceptional cases with significantly higher values.\n"
   ]
  },
  {
   "cell_type": "code",
   "execution_count": 25,
   "id": "1067a00d",
   "metadata": {},
   "outputs": [
    {
     "data": {
      "text/plain": [
       "{'whiskers': [<matplotlib.lines.Line2D at 0x13d59ca4810>,\n",
       "  <matplotlib.lines.Line2D at 0x13d59ca5350>],\n",
       " 'caps': [<matplotlib.lines.Line2D at 0x13d59ca5e90>,\n",
       "  <matplotlib.lines.Line2D at 0x13d59ca6950>],\n",
       " 'boxes': [<matplotlib.lines.Line2D at 0x13d59c8a710>],\n",
       " 'medians': [<matplotlib.lines.Line2D at 0x13d59ca74d0>],\n",
       " 'fliers': [<matplotlib.lines.Line2D at 0x13d59ca7e50>],\n",
       " 'means': []}"
      ]
     },
     "execution_count": 25,
     "metadata": {},
     "output_type": "execute_result"
    },
    {
     "data": {
      "image/png": "[encoded data removed]",
      "text/plain": [
       "<Figure size 640x480 with 1 Axes>"
      ]
     },
     "metadata": {},
     "output_type": "display_data"
    }
   ],
   "source": [
    "plt.boxplot(sales['Total Sales Value'])"
   ]
  },
  {
   "cell_type": "code",
   "execution_count": 26,
   "id": "c4372f46",
   "metadata": {},
   "outputs": [
    {
     "data": {
      "text/plain": [
       "{'whiskers': [<matplotlib.lines.Line2D at 0x13d5ae89390>,\n",
       "  <matplotlib.lines.Line2D at 0x13d5ae89f50>],\n",
       " 'caps': [<matplotlib.lines.Line2D at 0x13d5ae8aa90>,\n",
       "  <matplotlib.lines.Line2D at 0x13d5ae8b550>],\n",
       " 'boxes': [<matplotlib.lines.Line2D at 0x13d5ae78350>],\n",
       " 'medians': [<matplotlib.lines.Line2D at 0x13d5ae940d0>],\n",
       " 'fliers': [<matplotlib.lines.Line2D at 0x13d59c09f10>],\n",
       " 'means': []}"
      ]
     },
     "execution_count": 26,
     "metadata": {},
     "output_type": "execute_result"
    },
    {
     "data": {
      "image/png": "[encoded data removed]",
      "text/plain": [
       "<Figure size 640x480 with 1 Axes>"
      ]
     },
     "metadata": {},
     "output_type": "display_data"
    }
   ],
   "source": [
    "plt.boxplot(sales['Discount Rate (%)'])"
   ]
  },
  {
   "cell_type": "code",
   "execution_count": 27,
   "id": "bbc6423b",
   "metadata": {},
   "outputs": [
    {
     "data": {
      "text/plain": [
       "{'whiskers': [<matplotlib.lines.Line2D at 0x13d5aee3650>,\n",
       "  <matplotlib.lines.Line2D at 0x13d5aeec310>],\n",
       " 'caps': [<matplotlib.lines.Line2D at 0x13d5aeeced0>,\n",
       "  <matplotlib.lines.Line2D at 0x13d5aeed9d0>],\n",
       " 'boxes': [<matplotlib.lines.Line2D at 0x13d5aeada90>],\n",
       " 'medians': [<matplotlib.lines.Line2D at 0x13d5aeee490>],\n",
       " 'fliers': [<matplotlib.lines.Line2D at 0x13d5ae56f10>],\n",
       " 'means': []}"
      ]
     },
     "execution_count": 27,
     "metadata": {},
     "output_type": "execute_result"
    },
    {
     "data": {
      "image/png": "[encoded data removed]",
      "text/plain": [
       "<Figure size 640x480 with 1 Axes>"
      ]
     },
     "metadata": {},
     "output_type": "display_data"
    }
   ],
   "source": [
    "plt.boxplot(sales['Discount Amount'])"
   ]
  },
  {
   "cell_type": "code",
   "execution_count": 28,
   "id": "f63f9a98",
   "metadata": {},
   "outputs": [
    {
     "data": {
      "text/plain": [
       "{'whiskers': [<matplotlib.lines.Line2D at 0x13d5af4e9d0>,\n",
       "  <matplotlib.lines.Line2D at 0x13d5af4f6d0>],\n",
       " 'caps': [<matplotlib.lines.Line2D at 0x13d59abc150>,\n",
       "  <matplotlib.lines.Line2D at 0x13d59abccd0>],\n",
       " 'boxes': [<matplotlib.lines.Line2D at 0x13d5af4dd50>],\n",
       " 'medians': [<matplotlib.lines.Line2D at 0x13d59abd750>],\n",
       " 'fliers': [<matplotlib.lines.Line2D at 0x13d5ae5e1d0>],\n",
       " 'means': []}"
      ]
     },
     "execution_count": 28,
     "metadata": {},
     "output_type": "execute_result"
    },
    {
     "data": {
      "image/png": "[encoded data removed]",
      "text/plain": [
       "<Figure size 640x480 with 1 Axes>"
      ]
     },
     "metadata": {},
     "output_type": "display_data"
    }
   ],
   "source": [
    "plt.boxplot(sales['Net Sales Value'])"
   ]
  },
  {
   "cell_type": "markdown",
   "id": "c4aa9885",
   "metadata": {},
   "source": [
    "# Standardization of Numerical Variables"
   ]
  },
  {
   "cell_type": "markdown",
   "id": "ddc3c61f",
   "metadata": {},
   "source": [
    " Z-score normalization, also known as standardization, \n",
    "    is a statistical technique used to transform data in such a way that it has a mean of 0 and a standard deviation of 1.Z-score normalization is a statistical technique used to transform a dataset into a standard scale.\n",
    "It ensures that the data has a mean of 0 and a standard deviation of 1.\n",
    "By standardizing the data, we can compare and analyze variables on a common scale.Formula for Z-score:\n",
    "Steps for Z-score normalization:\n",
    "Calculate the mean ((\\mu)) and standard deviation ((\\sigma)) of the dataset.\n",
    "For each data point, compute the Z-score using the formula above.\n",
    "The resulting Z-scores represent how many standard deviations each data point is away from the mean. "
   ]
  },
  {
   "cell_type": "code",
   "execution_count": 29,
   "id": "8beffc48",
   "metadata": {},
   "outputs": [
    {
     "data": {
      "text/html": [
       "<div>\n",
       "<style scoped>\n",
       "    .dataframe tbody tr th:only-of-type {\n",
       "        vertical-align: middle;\n",
       "    }\n",
       "\n",
       "    .dataframe tbody tr th {\n",
       "        vertical-align: top;\n",
       "    }\n",
       "\n",
       "    .dataframe thead th {\n",
       "        text-align: right;\n",
       "    }\n",
       "</style>\n",
       "<table border=\"1\" class=\"dataframe\">\n",
       "  <thead>\n",
       "    <tr style=\"text-align: right;\">\n",
       "      <th></th>\n",
       "      <th>Date</th>\n",
       "      <th>Day</th>\n",
       "      <th>SKU</th>\n",
       "      <th>City</th>\n",
       "      <th>Volume</th>\n",
       "      <th>BU</th>\n",
       "      <th>Brand</th>\n",
       "      <th>Model</th>\n",
       "      <th>Avg Price</th>\n",
       "      <th>Total Sales Value</th>\n",
       "      <th>Discount Rate (%)</th>\n",
       "      <th>Discount Amount</th>\n",
       "      <th>Net Sales Value</th>\n",
       "    </tr>\n",
       "  </thead>\n",
       "  <tbody>\n",
       "    <tr>\n",
       "      <th>0</th>\n",
       "      <td>01-04-2021</td>\n",
       "      <td>Thursday</td>\n",
       "      <td>M01</td>\n",
       "      <td>C</td>\n",
       "      <td>15</td>\n",
       "      <td>Mobiles</td>\n",
       "      <td>RealU</td>\n",
       "      <td>RU-10</td>\n",
       "      <td>12100</td>\n",
       "      <td>181500</td>\n",
       "      <td>11.654820</td>\n",
       "      <td>21153.498820</td>\n",
       "      <td>160346.501180</td>\n",
       "    </tr>\n",
       "    <tr>\n",
       "      <th>1</th>\n",
       "      <td>01-04-2021</td>\n",
       "      <td>Thursday</td>\n",
       "      <td>M02</td>\n",
       "      <td>C</td>\n",
       "      <td>10</td>\n",
       "      <td>Mobiles</td>\n",
       "      <td>RealU</td>\n",
       "      <td>RU-9 Plus</td>\n",
       "      <td>10100</td>\n",
       "      <td>101000</td>\n",
       "      <td>11.560498</td>\n",
       "      <td>11676.102961</td>\n",
       "      <td>89323.897039</td>\n",
       "    </tr>\n",
       "    <tr>\n",
       "      <th>2</th>\n",
       "      <td>01-04-2021</td>\n",
       "      <td>Thursday</td>\n",
       "      <td>M03</td>\n",
       "      <td>C</td>\n",
       "      <td>7</td>\n",
       "      <td>Mobiles</td>\n",
       "      <td>YouM</td>\n",
       "      <td>YM-99</td>\n",
       "      <td>16100</td>\n",
       "      <td>112700</td>\n",
       "      <td>9.456886</td>\n",
       "      <td>10657.910157</td>\n",
       "      <td>102042.089843</td>\n",
       "    </tr>\n",
       "    <tr>\n",
       "      <th>3</th>\n",
       "      <td>01-04-2021</td>\n",
       "      <td>Thursday</td>\n",
       "      <td>M04</td>\n",
       "      <td>C</td>\n",
       "      <td>6</td>\n",
       "      <td>Mobiles</td>\n",
       "      <td>YouM</td>\n",
       "      <td>YM-99 Plus</td>\n",
       "      <td>20100</td>\n",
       "      <td>120600</td>\n",
       "      <td>6.935385</td>\n",
       "      <td>8364.074702</td>\n",
       "      <td>112235.925298</td>\n",
       "    </tr>\n",
       "    <tr>\n",
       "      <th>4</th>\n",
       "      <td>01-04-2021</td>\n",
       "      <td>Thursday</td>\n",
       "      <td>M05</td>\n",
       "      <td>C</td>\n",
       "      <td>3</td>\n",
       "      <td>Mobiles</td>\n",
       "      <td>YouM</td>\n",
       "      <td>YM-98</td>\n",
       "      <td>8100</td>\n",
       "      <td>24300</td>\n",
       "      <td>17.995663</td>\n",
       "      <td>4372.946230</td>\n",
       "      <td>19927.053770</td>\n",
       "    </tr>\n",
       "    <tr>\n",
       "      <th>...</th>\n",
       "      <td>...</td>\n",
       "      <td>...</td>\n",
       "      <td>...</td>\n",
       "      <td>...</td>\n",
       "      <td>...</td>\n",
       "      <td>...</td>\n",
       "      <td>...</td>\n",
       "      <td>...</td>\n",
       "      <td>...</td>\n",
       "      <td>...</td>\n",
       "      <td>...</td>\n",
       "      <td>...</td>\n",
       "      <td>...</td>\n",
       "    </tr>\n",
       "    <tr>\n",
       "      <th>445</th>\n",
       "      <td>15-04-2021</td>\n",
       "      <td>Thursday</td>\n",
       "      <td>L06</td>\n",
       "      <td>C</td>\n",
       "      <td>2</td>\n",
       "      <td>Lifestyle</td>\n",
       "      <td>Jeera</td>\n",
       "      <td>M-Casuals</td>\n",
       "      <td>1300</td>\n",
       "      <td>2600</td>\n",
       "      <td>15.475687</td>\n",
       "      <td>402.367873</td>\n",
       "      <td>2197.632127</td>\n",
       "    </tr>\n",
       "    <tr>\n",
       "      <th>446</th>\n",
       "      <td>15-04-2021</td>\n",
       "      <td>Thursday</td>\n",
       "      <td>L07</td>\n",
       "      <td>C</td>\n",
       "      <td>6</td>\n",
       "      <td>Lifestyle</td>\n",
       "      <td>Viva</td>\n",
       "      <td>W-Western</td>\n",
       "      <td>2600</td>\n",
       "      <td>15600</td>\n",
       "      <td>17.057027</td>\n",
       "      <td>2660.896242</td>\n",
       "      <td>12939.103758</td>\n",
       "    </tr>\n",
       "    <tr>\n",
       "      <th>447</th>\n",
       "      <td>15-04-2021</td>\n",
       "      <td>Thursday</td>\n",
       "      <td>L08</td>\n",
       "      <td>C</td>\n",
       "      <td>2</td>\n",
       "      <td>Lifestyle</td>\n",
       "      <td>Viva</td>\n",
       "      <td>W-Lounge</td>\n",
       "      <td>1600</td>\n",
       "      <td>3200</td>\n",
       "      <td>18.965550</td>\n",
       "      <td>606.897606</td>\n",
       "      <td>2593.102394</td>\n",
       "    </tr>\n",
       "    <tr>\n",
       "      <th>448</th>\n",
       "      <td>15-04-2021</td>\n",
       "      <td>Thursday</td>\n",
       "      <td>L09</td>\n",
       "      <td>C</td>\n",
       "      <td>3</td>\n",
       "      <td>Lifestyle</td>\n",
       "      <td>Jeera</td>\n",
       "      <td>M-Formals</td>\n",
       "      <td>1900</td>\n",
       "      <td>5700</td>\n",
       "      <td>16.793014</td>\n",
       "      <td>957.201826</td>\n",
       "      <td>4742.798174</td>\n",
       "    </tr>\n",
       "    <tr>\n",
       "      <th>449</th>\n",
       "      <td>15-04-2021</td>\n",
       "      <td>Thursday</td>\n",
       "      <td>L10</td>\n",
       "      <td>C</td>\n",
       "      <td>1</td>\n",
       "      <td>Lifestyle</td>\n",
       "      <td>Jeera</td>\n",
       "      <td>M-Shoes</td>\n",
       "      <td>3100</td>\n",
       "      <td>3100</td>\n",
       "      <td>15.333300</td>\n",
       "      <td>475.332295</td>\n",
       "      <td>2624.667705</td>\n",
       "    </tr>\n",
       "  </tbody>\n",
       "</table>\n",
       "<p>450 rows × 13 columns</p>\n",
       "</div>"
      ],
      "text/plain": [
       "           Date       Day  SKU City  Volume         BU  Brand       Model  \\\n",
       "0    01-04-2021  Thursday  M01    C      15    Mobiles  RealU       RU-10   \n",
       "1    01-04-2021  Thursday  M02    C      10    Mobiles  RealU   RU-9 Plus   \n",
       "2    01-04-2021  Thursday  M03    C       7    Mobiles   YouM       YM-99   \n",
       "3    01-04-2021  Thursday  M04    C       6    Mobiles   YouM  YM-99 Plus   \n",
       "4    01-04-2021  Thursday  M05    C       3    Mobiles   YouM      YM-98    \n",
       "..          ...       ...  ...  ...     ...        ...    ...         ...   \n",
       "445  15-04-2021  Thursday  L06    C       2  Lifestyle  Jeera   M-Casuals   \n",
       "446  15-04-2021  Thursday  L07    C       6  Lifestyle   Viva   W-Western   \n",
       "447  15-04-2021  Thursday  L08    C       2  Lifestyle   Viva    W-Lounge   \n",
       "448  15-04-2021  Thursday  L09    C       3  Lifestyle  Jeera   M-Formals   \n",
       "449  15-04-2021  Thursday  L10    C       1  Lifestyle  Jeera     M-Shoes   \n",
       "\n",
       "     Avg Price  Total Sales Value  Discount Rate (%)  Discount Amount  \\\n",
       "0        12100             181500          11.654820     21153.498820   \n",
       "1        10100             101000          11.560498     11676.102961   \n",
       "2        16100             112700           9.456886     10657.910157   \n",
       "3        20100             120600           6.935385      8364.074702   \n",
       "4         8100              24300          17.995663      4372.946230   \n",
       "..         ...                ...                ...              ...   \n",
       "445       1300               2600          15.475687       402.367873   \n",
       "446       2600              15600          17.057027      2660.896242   \n",
       "447       1600               3200          18.965550       606.897606   \n",
       "448       1900               5700          16.793014       957.201826   \n",
       "449       3100               3100          15.333300       475.332295   \n",
       "\n",
       "     Net Sales Value  \n",
       "0      160346.501180  \n",
       "1       89323.897039  \n",
       "2      102042.089843  \n",
       "3      112235.925298  \n",
       "4       19927.053770  \n",
       "..               ...  \n",
       "445      2197.632127  \n",
       "446     12939.103758  \n",
       "447      2593.102394  \n",
       "448      4742.798174  \n",
       "449      2624.667705  \n",
       "\n",
       "[450 rows x 13 columns]"
      ]
     },
     "execution_count": 29,
     "metadata": {},
     "output_type": "execute_result"
    }
   ],
   "source": [
    "import numpy as np\n",
    "import pandas as pd\n",
    "sales=pd.read_csv(\"sales_data_with_discounts.csv\")\n",
    "sales"
   ]
  },
  {
   "cell_type": "markdown",
   "id": "71792a4b",
   "metadata": {},
   "source": [
    "# zscore for Numerical columns"
   ]
  },
  {
   "cell_type": "code",
   "execution_count": 30,
   "id": "448ec670",
   "metadata": {},
   "outputs": [
    {
     "data": {
      "text/html": [
       "<div>\n",
       "<style scoped>\n",
       "    .dataframe tbody tr th:only-of-type {\n",
       "        vertical-align: middle;\n",
       "    }\n",
       "\n",
       "    .dataframe tbody tr th {\n",
       "        vertical-align: top;\n",
       "    }\n",
       "\n",
       "    .dataframe thead th {\n",
       "        text-align: right;\n",
       "    }\n",
       "</style>\n",
       "<table border=\"1\" class=\"dataframe\">\n",
       "  <thead>\n",
       "    <tr style=\"text-align: right;\">\n",
       "      <th></th>\n",
       "      <th>Volume</th>\n",
       "      <th>Avg Price</th>\n",
       "      <th>Total Sales Value</th>\n",
       "      <th>Discount Rate (%)</th>\n",
       "      <th>Discount Amount</th>\n",
       "      <th>Net Sales Value</th>\n",
       "    </tr>\n",
       "  </thead>\n",
       "  <tbody>\n",
       "    <tr>\n",
       "      <th>0</th>\n",
       "      <td>13.80266</td>\n",
       "      <td>12099.42182</td>\n",
       "      <td>181499.330904</td>\n",
       "      <td>8.064043</td>\n",
       "      <td>21152.756786</td>\n",
       "      <td>160345.843993</td>\n",
       "    </tr>\n",
       "    <tr>\n",
       "      <th>1</th>\n",
       "      <td>8.80266</td>\n",
       "      <td>10099.42182</td>\n",
       "      <td>100999.330904</td>\n",
       "      <td>7.969721</td>\n",
       "      <td>11675.360927</td>\n",
       "      <td>89323.239851</td>\n",
       "    </tr>\n",
       "    <tr>\n",
       "      <th>2</th>\n",
       "      <td>5.80266</td>\n",
       "      <td>16099.42182</td>\n",
       "      <td>112699.330904</td>\n",
       "      <td>5.866108</td>\n",
       "      <td>10657.168123</td>\n",
       "      <td>102041.432656</td>\n",
       "    </tr>\n",
       "    <tr>\n",
       "      <th>3</th>\n",
       "      <td>4.80266</td>\n",
       "      <td>20099.42182</td>\n",
       "      <td>120599.330904</td>\n",
       "      <td>3.344608</td>\n",
       "      <td>8363.332668</td>\n",
       "      <td>112235.268110</td>\n",
       "    </tr>\n",
       "    <tr>\n",
       "      <th>4</th>\n",
       "      <td>1.80266</td>\n",
       "      <td>8099.42182</td>\n",
       "      <td>24299.330904</td>\n",
       "      <td>14.404886</td>\n",
       "      <td>4372.204197</td>\n",
       "      <td>19926.396582</td>\n",
       "    </tr>\n",
       "    <tr>\n",
       "      <th>...</th>\n",
       "      <td>...</td>\n",
       "      <td>...</td>\n",
       "      <td>...</td>\n",
       "      <td>...</td>\n",
       "      <td>...</td>\n",
       "      <td>...</td>\n",
       "    </tr>\n",
       "    <tr>\n",
       "      <th>445</th>\n",
       "      <td>0.80266</td>\n",
       "      <td>1299.42182</td>\n",
       "      <td>2599.330904</td>\n",
       "      <td>11.884910</td>\n",
       "      <td>401.625839</td>\n",
       "      <td>2196.974939</td>\n",
       "    </tr>\n",
       "    <tr>\n",
       "      <th>446</th>\n",
       "      <td>4.80266</td>\n",
       "      <td>2599.42182</td>\n",
       "      <td>15599.330904</td>\n",
       "      <td>13.466250</td>\n",
       "      <td>2660.154208</td>\n",
       "      <td>12938.446571</td>\n",
       "    </tr>\n",
       "    <tr>\n",
       "      <th>447</th>\n",
       "      <td>0.80266</td>\n",
       "      <td>1599.42182</td>\n",
       "      <td>3199.330904</td>\n",
       "      <td>15.374773</td>\n",
       "      <td>606.155572</td>\n",
       "      <td>2592.445207</td>\n",
       "    </tr>\n",
       "    <tr>\n",
       "      <th>448</th>\n",
       "      <td>1.80266</td>\n",
       "      <td>1899.42182</td>\n",
       "      <td>5699.330904</td>\n",
       "      <td>13.202237</td>\n",
       "      <td>956.459792</td>\n",
       "      <td>4742.140987</td>\n",
       "    </tr>\n",
       "    <tr>\n",
       "      <th>449</th>\n",
       "      <td>-0.19734</td>\n",
       "      <td>3099.42182</td>\n",
       "      <td>3099.330904</td>\n",
       "      <td>11.742523</td>\n",
       "      <td>474.590261</td>\n",
       "      <td>2624.010518</td>\n",
       "    </tr>\n",
       "  </tbody>\n",
       "</table>\n",
       "<p>450 rows × 6 columns</p>\n",
       "</div>"
      ],
      "text/plain": [
       "       Volume    Avg Price  Total Sales Value  Discount Rate (%)  \\\n",
       "0    13.80266  12099.42182      181499.330904           8.064043   \n",
       "1     8.80266  10099.42182      100999.330904           7.969721   \n",
       "2     5.80266  16099.42182      112699.330904           5.866108   \n",
       "3     4.80266  20099.42182      120599.330904           3.344608   \n",
       "4     1.80266   8099.42182       24299.330904          14.404886   \n",
       "..        ...          ...                ...                ...   \n",
       "445   0.80266   1299.42182        2599.330904          11.884910   \n",
       "446   4.80266   2599.42182       15599.330904          13.466250   \n",
       "447   0.80266   1599.42182        3199.330904          15.374773   \n",
       "448   1.80266   1899.42182        5699.330904          13.202237   \n",
       "449  -0.19734   3099.42182        3099.330904          11.742523   \n",
       "\n",
       "     Discount Amount  Net Sales Value  \n",
       "0       21152.756786    160345.843993  \n",
       "1       11675.360927     89323.239851  \n",
       "2       10657.168123    102041.432656  \n",
       "3        8363.332668    112235.268110  \n",
       "4        4372.204197     19926.396582  \n",
       "..               ...              ...  \n",
       "445       401.625839      2196.974939  \n",
       "446      2660.154208     12938.446571  \n",
       "447       606.155572      2592.445207  \n",
       "448       956.459792      4742.140987  \n",
       "449       474.590261      2624.010518  \n",
       "\n",
       "[450 rows x 6 columns]"
      ]
     },
     "execution_count": 30,
     "metadata": {},
     "output_type": "execute_result"
    }
   ],
   "source": [
    "sales.select_dtypes(include=['number']) - sales.select_dtypes(include=['number']).mean() / sales.select_dtypes(include=['number']).std()"
   ]
  },
  {
   "cell_type": "markdown",
   "id": "a0bf91d2",
   "metadata": {},
   "source": [
    "## converting categorical data into dummy variables (one-hot encoding):\n",
    "\n",
    "1.Numerical Representation: Machine learning models require numerical data, so one-hot encoding transforms categorical variables into a compatible format.\n",
    "2.Avoiding Ordinal Assumptions: One-hot encoding prevents misinterpreting ordinal relationships in nominal data.\n",
    "3.Interpretability: Coefficients associated with each category enhance model interpretability.\n",
    "4.Handling Multiclass Classification: It ensures separate binary columns for each class in multiclass problems.\n",
    "5.Regression Models: One-hot encoding allows categorical features in regression models.\n",
    "6.Magnitude Bias Avoidance: It prevents undue importance based on encoded values’ magnitudes.\n",
    "7.Handling Missing Data: One-hot encoding accommodates missing values.\n",
    "8.Visualizing Changes: Use one-hot encoding to compare before-and-after data distributions."
   ]
  },
  {
   "cell_type": "code",
   "execution_count": 39,
   "id": "03aad4dc",
   "metadata": {},
   "outputs": [
    {
     "name": "stdout",
     "output_type": "stream",
     "text": [
      "           Date  SKU City  Volume         BU  Brand       Model  Avg Price  \\\n",
      "0    01-04-2021  M01    C      15    Mobiles  RealU       RU-10      12100   \n",
      "1    01-04-2021  M02    C      10    Mobiles  RealU   RU-9 Plus      10100   \n",
      "2    01-04-2021  M03    C       7    Mobiles   YouM       YM-99      16100   \n",
      "3    01-04-2021  M04    C       6    Mobiles   YouM  YM-99 Plus      20100   \n",
      "4    01-04-2021  M05    C       3    Mobiles   YouM      YM-98        8100   \n",
      "..          ...  ...  ...     ...        ...    ...         ...        ...   \n",
      "445  15-04-2021  L06    C       2  Lifestyle  Jeera   M-Casuals       1300   \n",
      "446  15-04-2021  L07    C       6  Lifestyle   Viva   W-Western       2600   \n",
      "447  15-04-2021  L08    C       2  Lifestyle   Viva    W-Lounge       1600   \n",
      "448  15-04-2021  L09    C       3  Lifestyle  Jeera   M-Formals       1900   \n",
      "449  15-04-2021  L10    C       1  Lifestyle  Jeera     M-Shoes       3100   \n",
      "\n",
      "     Total Sales Value  Discount Rate (%)  Discount Amount  Net Sales Value  \\\n",
      "0               181500          11.654820     21153.498820    160346.501180   \n",
      "1               101000          11.560498     11676.102961     89323.897039   \n",
      "2               112700           9.456886     10657.910157    102042.089843   \n",
      "3               120600           6.935385      8364.074702    112235.925298   \n",
      "4                24300          17.995663      4372.946230     19927.053770   \n",
      "..                 ...                ...              ...              ...   \n",
      "445               2600          15.475687       402.367873      2197.632127   \n",
      "446              15600          17.057027      2660.896242     12939.103758   \n",
      "447               3200          18.965550       606.897606      2593.102394   \n",
      "448               5700          16.793014       957.201826      4742.798174   \n",
      "449               3100          15.333300       475.332295      2624.667705   \n",
      "\n",
      "     Day_Friday  Day_Monday  Day_Saturday  Day_Sunday  Day_Thursday  \\\n",
      "0         False       False         False       False          True   \n",
      "1         False       False         False       False          True   \n",
      "2         False       False         False       False          True   \n",
      "3         False       False         False       False          True   \n",
      "4         False       False         False       False          True   \n",
      "..          ...         ...           ...         ...           ...   \n",
      "445       False       False         False       False          True   \n",
      "446       False       False         False       False          True   \n",
      "447       False       False         False       False          True   \n",
      "448       False       False         False       False          True   \n",
      "449       False       False         False       False          True   \n",
      "\n",
      "     Day_Tuesday  Day_Wednesday  \n",
      "0          False          False  \n",
      "1          False          False  \n",
      "2          False          False  \n",
      "3          False          False  \n",
      "4          False          False  \n",
      "..           ...            ...  \n",
      "445        False          False  \n",
      "446        False          False  \n",
      "447        False          False  \n",
      "448        False          False  \n",
      "449        False          False  \n",
      "\n",
      "[450 rows x 19 columns]\n"
     ]
    }
   ],
   "source": [
    "import pandas as pd\n",
    "sales=pd.read_csv(\"sales_data_with_discounts.csv\")\n",
    "sales\n",
    "encoded_sales = pd.get_dummies(sales, columns=['Day'])\n",
    "\n",
    "print(encoded_sales)"
   ]
  },
  {
   "cell_type": "code",
   "execution_count": 40,
   "id": "82c74c57",
   "metadata": {},
   "outputs": [
    {
     "name": "stdout",
     "output_type": "stream",
     "text": [
      "           Date       Day City  Volume         BU  Brand       Model  \\\n",
      "0    01-04-2021  Thursday    C      15    Mobiles  RealU       RU-10   \n",
      "1    01-04-2021  Thursday    C      10    Mobiles  RealU   RU-9 Plus   \n",
      "2    01-04-2021  Thursday    C       7    Mobiles   YouM       YM-99   \n",
      "3    01-04-2021  Thursday    C       6    Mobiles   YouM  YM-99 Plus   \n",
      "4    01-04-2021  Thursday    C       3    Mobiles   YouM      YM-98    \n",
      "..          ...       ...  ...     ...        ...    ...         ...   \n",
      "445  15-04-2021  Thursday    C       2  Lifestyle  Jeera   M-Casuals   \n",
      "446  15-04-2021  Thursday    C       6  Lifestyle   Viva   W-Western   \n",
      "447  15-04-2021  Thursday    C       2  Lifestyle   Viva    W-Lounge   \n",
      "448  15-04-2021  Thursday    C       3  Lifestyle  Jeera   M-Formals   \n",
      "449  15-04-2021  Thursday    C       1  Lifestyle  Jeera     M-Shoes   \n",
      "\n",
      "     Avg Price  Total Sales Value  Discount Rate (%)  ...  SKU_M01  SKU_M02  \\\n",
      "0        12100             181500          11.654820  ...     True    False   \n",
      "1        10100             101000          11.560498  ...    False     True   \n",
      "2        16100             112700           9.456886  ...    False    False   \n",
      "3        20100             120600           6.935385  ...    False    False   \n",
      "4         8100              24300          17.995663  ...    False    False   \n",
      "..         ...                ...                ...  ...      ...      ...   \n",
      "445       1300               2600          15.475687  ...    False    False   \n",
      "446       2600              15600          17.057027  ...    False    False   \n",
      "447       1600               3200          18.965550  ...    False    False   \n",
      "448       1900               5700          16.793014  ...    False    False   \n",
      "449       3100               3100          15.333300  ...    False    False   \n",
      "\n",
      "     SKU_M03  SKU_M04  SKU_M05  SKU_M06  SKU_M07  SKU_M08  SKU_M09  SKU_M10  \n",
      "0      False    False    False    False    False    False    False    False  \n",
      "1      False    False    False    False    False    False    False    False  \n",
      "2       True    False    False    False    False    False    False    False  \n",
      "3      False     True    False    False    False    False    False    False  \n",
      "4      False    False     True    False    False    False    False    False  \n",
      "..       ...      ...      ...      ...      ...      ...      ...      ...  \n",
      "445    False    False    False    False    False    False    False    False  \n",
      "446    False    False    False    False    False    False    False    False  \n",
      "447    False    False    False    False    False    False    False    False  \n",
      "448    False    False    False    False    False    False    False    False  \n",
      "449    False    False    False    False    False    False    False    False  \n",
      "\n",
      "[450 rows x 42 columns]\n"
     ]
    }
   ],
   "source": [
    "encoded_sales = pd.get_dummies(sales, columns=['SKU'])\n",
    "\n",
    "print(encoded_sales)"
   ]
  },
  {
   "cell_type": "code",
   "execution_count": 41,
   "id": "5e150e38",
   "metadata": {},
   "outputs": [
    {
     "name": "stdout",
     "output_type": "stream",
     "text": [
      "           Date       Day  SKU  Volume         BU  Brand       Model  \\\n",
      "0    01-04-2021  Thursday  M01      15    Mobiles  RealU       RU-10   \n",
      "1    01-04-2021  Thursday  M02      10    Mobiles  RealU   RU-9 Plus   \n",
      "2    01-04-2021  Thursday  M03       7    Mobiles   YouM       YM-99   \n",
      "3    01-04-2021  Thursday  M04       6    Mobiles   YouM  YM-99 Plus   \n",
      "4    01-04-2021  Thursday  M05       3    Mobiles   YouM      YM-98    \n",
      "..          ...       ...  ...     ...        ...    ...         ...   \n",
      "445  15-04-2021  Thursday  L06       2  Lifestyle  Jeera   M-Casuals   \n",
      "446  15-04-2021  Thursday  L07       6  Lifestyle   Viva   W-Western   \n",
      "447  15-04-2021  Thursday  L08       2  Lifestyle   Viva    W-Lounge   \n",
      "448  15-04-2021  Thursday  L09       3  Lifestyle  Jeera   M-Formals   \n",
      "449  15-04-2021  Thursday  L10       1  Lifestyle  Jeera     M-Shoes   \n",
      "\n",
      "     Avg Price  Total Sales Value  Discount Rate (%)  Discount Amount  \\\n",
      "0        12100             181500          11.654820     21153.498820   \n",
      "1        10100             101000          11.560498     11676.102961   \n",
      "2        16100             112700           9.456886     10657.910157   \n",
      "3        20100             120600           6.935385      8364.074702   \n",
      "4         8100              24300          17.995663      4372.946230   \n",
      "..         ...                ...                ...              ...   \n",
      "445       1300               2600          15.475687       402.367873   \n",
      "446       2600              15600          17.057027      2660.896242   \n",
      "447       1600               3200          18.965550       606.897606   \n",
      "448       1900               5700          16.793014       957.201826   \n",
      "449       3100               3100          15.333300       475.332295   \n",
      "\n",
      "     Net Sales Value  City_C  \n",
      "0      160346.501180    True  \n",
      "1       89323.897039    True  \n",
      "2      102042.089843    True  \n",
      "3      112235.925298    True  \n",
      "4       19927.053770    True  \n",
      "..               ...     ...  \n",
      "445      2197.632127    True  \n",
      "446     12939.103758    True  \n",
      "447      2593.102394    True  \n",
      "448      4742.798174    True  \n",
      "449      2624.667705    True  \n",
      "\n",
      "[450 rows x 13 columns]\n"
     ]
    }
   ],
   "source": [
    "encoded_sales = pd.get_dummies(sales, columns=['City'])\n",
    "\n",
    "print(encoded_sales)"
   ]
  },
  {
   "cell_type": "code",
   "execution_count": 42,
   "id": "4dddefbd",
   "metadata": {},
   "outputs": [
    {
     "name": "stdout",
     "output_type": "stream",
     "text": [
      "           Date       Day  SKU City  Volume  Brand       Model  Avg Price  \\\n",
      "0    01-04-2021  Thursday  M01    C      15  RealU       RU-10      12100   \n",
      "1    01-04-2021  Thursday  M02    C      10  RealU   RU-9 Plus      10100   \n",
      "2    01-04-2021  Thursday  M03    C       7   YouM       YM-99      16100   \n",
      "3    01-04-2021  Thursday  M04    C       6   YouM  YM-99 Plus      20100   \n",
      "4    01-04-2021  Thursday  M05    C       3   YouM      YM-98        8100   \n",
      "..          ...       ...  ...  ...     ...    ...         ...        ...   \n",
      "445  15-04-2021  Thursday  L06    C       2  Jeera   M-Casuals       1300   \n",
      "446  15-04-2021  Thursday  L07    C       6   Viva   W-Western       2600   \n",
      "447  15-04-2021  Thursday  L08    C       2   Viva    W-Lounge       1600   \n",
      "448  15-04-2021  Thursday  L09    C       3  Jeera   M-Formals       1900   \n",
      "449  15-04-2021  Thursday  L10    C       1  Jeera     M-Shoes       3100   \n",
      "\n",
      "     Total Sales Value  Discount Rate (%)  Discount Amount  Net Sales Value  \\\n",
      "0               181500          11.654820     21153.498820    160346.501180   \n",
      "1               101000          11.560498     11676.102961     89323.897039   \n",
      "2               112700           9.456886     10657.910157    102042.089843   \n",
      "3               120600           6.935385      8364.074702    112235.925298   \n",
      "4                24300          17.995663      4372.946230     19927.053770   \n",
      "..                 ...                ...              ...              ...   \n",
      "445               2600          15.475687       402.367873      2197.632127   \n",
      "446              15600          17.057027      2660.896242     12939.103758   \n",
      "447               3200          18.965550       606.897606      2593.102394   \n",
      "448               5700          16.793014       957.201826      4742.798174   \n",
      "449               3100          15.333300       475.332295      2624.667705   \n",
      "\n",
      "     BU_FMCG  BU_Lifestyle  BU_Mobiles  \n",
      "0      False         False        True  \n",
      "1      False         False        True  \n",
      "2      False         False        True  \n",
      "3      False         False        True  \n",
      "4      False         False        True  \n",
      "..       ...           ...         ...  \n",
      "445    False          True       False  \n",
      "446    False          True       False  \n",
      "447    False          True       False  \n",
      "448    False          True       False  \n",
      "449    False          True       False  \n",
      "\n",
      "[450 rows x 15 columns]\n"
     ]
    }
   ],
   "source": [
    "encoded_sales = pd.get_dummies(sales, columns=['BU'])\n",
    "\n",
    "print(encoded_sales)"
   ]
  },
  {
   "cell_type": "code",
   "execution_count": 43,
   "id": "1c7396f6",
   "metadata": {},
   "outputs": [
    {
     "name": "stdout",
     "output_type": "stream",
     "text": [
      "           Date       Day  SKU City  Volume         BU       Model  Avg Price  \\\n",
      "0    01-04-2021  Thursday  M01    C      15    Mobiles       RU-10      12100   \n",
      "1    01-04-2021  Thursday  M02    C      10    Mobiles   RU-9 Plus      10100   \n",
      "2    01-04-2021  Thursday  M03    C       7    Mobiles       YM-99      16100   \n",
      "3    01-04-2021  Thursday  M04    C       6    Mobiles  YM-99 Plus      20100   \n",
      "4    01-04-2021  Thursday  M05    C       3    Mobiles      YM-98        8100   \n",
      "..          ...       ...  ...  ...     ...        ...         ...        ...   \n",
      "445  15-04-2021  Thursday  L06    C       2  Lifestyle   M-Casuals       1300   \n",
      "446  15-04-2021  Thursday  L07    C       6  Lifestyle   W-Western       2600   \n",
      "447  15-04-2021  Thursday  L08    C       2  Lifestyle    W-Lounge       1600   \n",
      "448  15-04-2021  Thursday  L09    C       3  Lifestyle   M-Formals       1900   \n",
      "449  15-04-2021  Thursday  L10    C       1  Lifestyle     M-Shoes       3100   \n",
      "\n",
      "     Total Sales Value  Discount Rate (%)  ...  Net Sales Value  Brand_Babaji  \\\n",
      "0               181500          11.654820  ...    160346.501180         False   \n",
      "1               101000          11.560498  ...     89323.897039         False   \n",
      "2               112700           9.456886  ...    102042.089843         False   \n",
      "3               120600           6.935385  ...    112235.925298         False   \n",
      "4                24300          17.995663  ...     19927.053770         False   \n",
      "..                 ...                ...  ...              ...           ...   \n",
      "445               2600          15.475687  ...      2197.632127         False   \n",
      "446              15600          17.057027  ...     12939.103758         False   \n",
      "447               3200          18.965550  ...      2593.102394         False   \n",
      "448               5700          16.793014  ...      4742.798174         False   \n",
      "449               3100          15.333300  ...      2624.667705         False   \n",
      "\n",
      "     Brand_Gear  Brand_Jeera  Brand_Orange  Brand_RealU  Brand_Sumsang  \\\n",
      "0         False        False         False         True          False   \n",
      "1         False        False         False         True          False   \n",
      "2         False        False         False        False          False   \n",
      "3         False        False         False        False          False   \n",
      "4         False        False         False        False          False   \n",
      "..          ...          ...           ...          ...            ...   \n",
      "445       False         True         False        False          False   \n",
      "446       False        False         False        False          False   \n",
      "447       False        False         False        False          False   \n",
      "448       False         True         False        False          False   \n",
      "449       False         True         False        False          False   \n",
      "\n",
      "     Brand_Vedic  Brand_Viva  Brand_YouM  \n",
      "0          False       False       False  \n",
      "1          False       False       False  \n",
      "2          False       False        True  \n",
      "3          False       False        True  \n",
      "4          False       False        True  \n",
      "..           ...         ...         ...  \n",
      "445        False       False       False  \n",
      "446        False        True       False  \n",
      "447        False        True       False  \n",
      "448        False       False       False  \n",
      "449        False       False       False  \n",
      "\n",
      "[450 rows x 21 columns]\n"
     ]
    }
   ],
   "source": [
    "encoded_sales = pd.get_dummies(sales, columns=['Brand'])\n",
    "\n",
    "print(encoded_sales)"
   ]
  },
  {
   "cell_type": "code",
   "execution_count": 44,
   "id": "c4e2ddfa",
   "metadata": {},
   "outputs": [
    {
     "name": "stdout",
     "output_type": "stream",
     "text": [
      "           Date       Day  SKU City  Volume         BU  Brand  Avg Price  \\\n",
      "0    01-04-2021  Thursday  M01    C      15    Mobiles  RealU      12100   \n",
      "1    01-04-2021  Thursday  M02    C      10    Mobiles  RealU      10100   \n",
      "2    01-04-2021  Thursday  M03    C       7    Mobiles   YouM      16100   \n",
      "3    01-04-2021  Thursday  M04    C       6    Mobiles   YouM      20100   \n",
      "4    01-04-2021  Thursday  M05    C       3    Mobiles   YouM       8100   \n",
      "..          ...       ...  ...  ...     ...        ...    ...        ...   \n",
      "445  15-04-2021  Thursday  L06    C       2  Lifestyle  Jeera       1300   \n",
      "446  15-04-2021  Thursday  L07    C       6  Lifestyle   Viva       2600   \n",
      "447  15-04-2021  Thursday  L08    C       2  Lifestyle   Viva       1600   \n",
      "448  15-04-2021  Thursday  L09    C       3  Lifestyle  Jeera       1900   \n",
      "449  15-04-2021  Thursday  L10    C       1  Lifestyle  Jeera       3100   \n",
      "\n",
      "     Total Sales Value  Discount Rate (%)  ...  Model_Vedic Cream  \\\n",
      "0               181500          11.654820  ...              False   \n",
      "1               101000          11.560498  ...              False   \n",
      "2               112700           9.456886  ...              False   \n",
      "3               120600           6.935385  ...              False   \n",
      "4                24300          17.995663  ...              False   \n",
      "..                 ...                ...  ...                ...   \n",
      "445               2600          15.475687  ...              False   \n",
      "446              15600          17.057027  ...              False   \n",
      "447               3200          18.965550  ...              False   \n",
      "448               5700          16.793014  ...              False   \n",
      "449               3100          15.333300  ...              False   \n",
      "\n",
      "     Model_Vedic Oil  Model_Vedic Shampoo  Model_W-Casuals  Model_W-Inners  \\\n",
      "0              False                False            False           False   \n",
      "1              False                False            False           False   \n",
      "2              False                False            False           False   \n",
      "3              False                False            False           False   \n",
      "4              False                False            False           False   \n",
      "..               ...                  ...              ...             ...   \n",
      "445            False                False            False           False   \n",
      "446            False                False            False           False   \n",
      "447            False                False            False           False   \n",
      "448            False                False            False           False   \n",
      "449            False                False            False           False   \n",
      "\n",
      "     Model_W-Lounge  Model_W-Western  Model_YM-98   Model_YM-99  \\\n",
      "0             False            False         False        False   \n",
      "1             False            False         False        False   \n",
      "2             False            False         False         True   \n",
      "3             False            False         False        False   \n",
      "4             False            False          True        False   \n",
      "..              ...              ...           ...          ...   \n",
      "445           False            False         False        False   \n",
      "446           False             True         False        False   \n",
      "447            True            False         False        False   \n",
      "448           False            False         False        False   \n",
      "449           False            False         False        False   \n",
      "\n",
      "     Model_YM-99 Plus  \n",
      "0               False  \n",
      "1               False  \n",
      "2               False  \n",
      "3                True  \n",
      "4               False  \n",
      "..                ...  \n",
      "445             False  \n",
      "446             False  \n",
      "447             False  \n",
      "448             False  \n",
      "449             False  \n",
      "\n",
      "[450 rows x 42 columns]\n"
     ]
    }
   ],
   "source": [
    "encoded_sales = pd.get_dummies(sales, columns=['Model'])\n",
    "\n",
    "print(encoded_sales)"
   ]
  },
  {
   "cell_type": "code",
   "execution_count": null,
   "id": "754f87a8",
   "metadata": {},
   "outputs": [],
   "source": []
  }
 ],
 "metadata": {
  "kernelspec": {
   "display_name": "Python 3 (ipykernel)",
   "language": "python",
   "name": "python3"
  },
  "language_info": {
   "codemirror_mode": {
    "name": "ipython",
    "version": 3
   },
   "file_extension": ".py",
   "mimetype": "text/x-python",
   "name": "python",
   "nbconvert_exporter": "python",
   "pygments_lexer": "ipython3",
   "version": "3.11.5"
  }
 },
 "nbformat": 4,
 "nbformat_minor": 5
}
