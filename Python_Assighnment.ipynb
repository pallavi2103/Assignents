{
  "nbformat": 4,
  "nbformat_minor": 0,
  "metadata": {
    "colab": {
      "provenance": []
    },
    "kernelspec": {
      "name": "python3",
      "display_name": "Python 3"
    },
    "language_info": {
      "name": "python"
    }
  },
  "cells": [
    {
      "cell_type": "markdown",
      "source": [
        "Exercise 1: Prime Numbers\n",
        "\n",
        "\n",
        "Write a Python program that checks whether a given number is prime or not. A prime number is a natural number greater than 1 that has no positive divisors other than 1 and itself.\n",
        "\n"
      ],
      "metadata": {
        "id": "tVu17EuVJy2K"
      }
    },
    {
      "cell_type": "code",
      "source": [
        "num = int(input('ENTER THE NUMBER :'))\n",
        "\n",
        "if num > 1:\n",
        "\n",
        "    for i in range(2, (num//2)+1):\n",
        "\n",
        "        if (num % i) == 0:\n",
        "            print(num, \"is not a prime number\")\n",
        "            break\n",
        "    else:\n",
        "        print(num, \"is a prime number\")\n",
        "else:\n",
        "    print(num, \"is not a prime number\")"
      ],
      "metadata": {
        "colab": {
          "base_uri": "https://localhost:8080/"
        },
        "id": "NHxbtG22J7UW",
        "outputId": "b2829c9b-fa90-4be2-b0e5-182837914231"
      },
      "execution_count": null,
      "outputs": [
        {
          "output_type": "stream",
          "name": "stdout",
          "text": [
            "ENTER THE NUMBER :32\n",
            "32 is not a prime number\n"
          ]
        }
      ]
    },
    {
      "cell_type": "code",
      "source": [],
      "metadata": {
        "id": "AVo3ddewJ7ZD"
      },
      "execution_count": null,
      "outputs": []
    },
    {
      "cell_type": "markdown",
      "source": [
        "Exercise 2: Product of Random Numbers\n",
        "\n",
        "Develop a Python program that generates two random numbers and asks the user to enter the product of these numbers. The program should then check if the user's answer is correct and display an appropriate message.\n"
      ],
      "metadata": {
        "id": "h9txNs7iP-9u"
      }
    },
    {
      "cell_type": "code",
      "source": [
        "import random\n",
        "\n",
        "def generate_numbers():\n",
        "    num1 = random.randint(1, 10)\n",
        "    num2 = random.randint(1, 10)\n",
        "    return num1, num2\n",
        "\n",
        "def main():\n",
        "    num1, num2 = generate_numbers()\n",
        "    product = num1 * num2\n",
        "\n",
        "    print(\"Please enter the product of {} and {}: \".format(num1, num2))\n",
        "    user_answer = int(input())\n",
        "\n",
        "    if user_answer == product:\n",
        "        print(\"Congratulations! Your answer is correct.\")\n",
        "    else:\n",
        "        print(\"Sorry, the correct answer is {}.\".format(product))\n",
        "\n",
        "if __name__ == \"__main__\":\n",
        "    main()\n"
      ],
      "metadata": {
        "colab": {
          "base_uri": "https://localhost:8080/"
        },
        "id": "ZVhzxvKiJ7jc",
        "outputId": "77b5dbf5-646c-4c33-d895-116b4700b8d2"
      },
      "execution_count": null,
      "outputs": [
        {
          "output_type": "stream",
          "name": "stdout",
          "text": [
            "Please enter the product of 10 and 10: \n",
            "2\n",
            "Sorry, the correct answer is 100.\n"
          ]
        }
      ]
    },
    {
      "cell_type": "code",
      "source": [],
      "metadata": {
        "id": "6-i4OdMwXj9B"
      },
      "execution_count": null,
      "outputs": []
    },
    {
      "cell_type": "markdown",
      "source": [
        "Exercise 3: Squares of Even/Odd Numbers\n",
        "\n",
        "Create a Python script that prints the squares of all even or odd numbers within the range of 100 to 200. Choose either even or odd numbers and document your choice in the code\n"
      ],
      "metadata": {
        "id": "XE--c5AYXkll"
      }
    },
    {
      "cell_type": "code",
      "source": [
        "#square of even numbers\n",
        "for i in range(100,200):\n",
        "  if i % 2 ==0 :\n",
        "    print( i * i)\n",
        "\n"
      ],
      "metadata": {
        "colab": {
          "base_uri": "https://localhost:8080/"
        },
        "id": "4PpxvRcVJ7Tu",
        "outputId": "6a26e068-b8cf-4221-c9af-d43554177663"
      },
      "execution_count": null,
      "outputs": [
        {
          "output_type": "stream",
          "name": "stdout",
          "text": [
            "10000\n",
            "10201\n",
            "10404\n",
            "10609\n",
            "10816\n",
            "11025\n",
            "11236\n",
            "11449\n",
            "11664\n",
            "11881\n",
            "12100\n",
            "12321\n",
            "12544\n",
            "12769\n",
            "12996\n",
            "13225\n",
            "13456\n",
            "13689\n",
            "13924\n",
            "14161\n",
            "14400\n",
            "14641\n",
            "14884\n",
            "15129\n",
            "15376\n",
            "15625\n",
            "15876\n",
            "16129\n",
            "16384\n",
            "16641\n",
            "16900\n",
            "17161\n",
            "17424\n",
            "17689\n",
            "17956\n",
            "18225\n",
            "18496\n",
            "18769\n",
            "19044\n",
            "19321\n",
            "19600\n",
            "19881\n",
            "20164\n",
            "20449\n",
            "20736\n",
            "21025\n",
            "21316\n",
            "21609\n",
            "21904\n",
            "22201\n",
            "22500\n",
            "22801\n",
            "23104\n",
            "23409\n",
            "23716\n",
            "24025\n",
            "24336\n",
            "24649\n",
            "24964\n",
            "25281\n",
            "25600\n",
            "25921\n",
            "26244\n",
            "26569\n",
            "26896\n",
            "27225\n",
            "27556\n",
            "27889\n",
            "28224\n",
            "28561\n",
            "28900\n",
            "29241\n",
            "29584\n",
            "29929\n",
            "30276\n",
            "30625\n",
            "30976\n",
            "31329\n",
            "31684\n",
            "32041\n",
            "32400\n",
            "32761\n",
            "33124\n",
            "33489\n",
            "33856\n",
            "34225\n",
            "34596\n",
            "34969\n",
            "35344\n",
            "35721\n",
            "36100\n",
            "36481\n",
            "36864\n",
            "37249\n",
            "37636\n",
            "38025\n",
            "38416\n",
            "38809\n",
            "39204\n",
            "39601\n"
          ]
        }
      ]
    },
    {
      "cell_type": "code",
      "source": [],
      "metadata": {
        "id": "6a3qtVQMJ7f3"
      },
      "execution_count": null,
      "outputs": []
    },
    {
      "cell_type": "markdown",
      "source": [
        "Exercise 4: Word counter\n",
        "\n",
        "write a program to count the number of words in a given text.\n"
      ],
      "metadata": {
        "id": "PwFNSnFKOEF5"
      }
    },
    {
      "cell_type": "code",
      "source": [
        "def count_words(input_text):\n",
        "    # Convert the input text to lowercase to ensure case insensitivity\n",
        "    input_text = input_text.lower()\n",
        "\n",
        "    # Split the input text into words\n",
        "    words = input_text.split()\n",
        "\n",
        "    # Initialize an empty dictionary to store word counts\n",
        "    word_counts = {}\n",
        "\n",
        "    # Iterate through each word in the list of words\n",
        "    for word in words:\n",
        "        # Remove punctuation marks from the word\n",
        "        word = word.strip(\".,!?\")\n",
        "        # Increment the count of the word in the dictionary\n",
        "        word_counts[word] = word_counts.get(word, 0) + 1\n",
        "\n",
        "    # Print the word counts\n",
        "    for word, count in word_counts.items():\n",
        "        print(f\"'{word}': {count}\")\n",
        "\n",
        "# Example usage\n",
        "input_text = \"This is a sample text. This text will be used to demonstrate the word counter.\"\n",
        "count_words(input_text)\n"
      ],
      "metadata": {
        "id": "dhOjgtjMJ7nX",
        "colab": {
          "base_uri": "https://localhost:8080/"
        },
        "outputId": "a0dfad1c-faea-4e56-ee35-249c43604c40"
      },
      "execution_count": 2,
      "outputs": [
        {
          "output_type": "stream",
          "name": "stdout",
          "text": [
            "'this': 2\n",
            "'is': 1\n",
            "'a': 1\n",
            "'sample': 1\n",
            "'text': 2\n",
            "'will': 1\n",
            "'be': 1\n",
            "'used': 1\n",
            "'to': 1\n",
            "'demonstrate': 1\n",
            "'the': 1\n",
            "'word': 1\n",
            "'counter': 1\n"
          ]
        }
      ]
    },
    {
      "cell_type": "code",
      "source": [],
      "metadata": {
        "id": "OQH73hYGJ7qy"
      },
      "execution_count": null,
      "outputs": []
    },
    {
      "cell_type": "markdown",
      "source": [
        "Exercise 5: Check for Palindrome\n",
        "\n",
        "Write a Python function called is_palindrome that takes a string as input and returns True if the string is a palindrome, and False otherwise. A palindrome is a word, phrase, number, or other sequence of characters that reads the same forward and backward, ignoring spaces, punctuation, and capitalization.\n"
      ],
      "metadata": {
        "id": "f7UaXt1WSsg_"
      }
    },
    {
      "cell_type": "code",
      "source": [
        "def is_palindrome(input_string):\n",
        "\n",
        "    clean_string = ''.join(char.lower() for char in input_string if char.isalnum())\n",
        "\n",
        "    return clean_string == clean_string[::-1]\n",
        "\n",
        "# Example usage\n",
        "input_string = \"A man, a plan, a canal, Panama!\"\n",
        "print(is_palindrome(input_string))  # Output: True\n"
      ],
      "metadata": {
        "colab": {
          "base_uri": "https://localhost:8080/"
        },
        "id": "SBnLscx2SyI9",
        "outputId": "02615176-315f-4ce5-cc4e-d43c8491cc43"
      },
      "execution_count": 3,
      "outputs": [
        {
          "output_type": "stream",
          "name": "stdout",
          "text": [
            "True\n"
          ]
        }
      ]
    },
    {
      "cell_type": "code",
      "source": [],
      "metadata": {
        "id": "5eCA4L1sSyMu"
      },
      "execution_count": null,
      "outputs": []
    },
    {
      "cell_type": "code",
      "source": [],
      "metadata": {
        "id": "s77xSfNISyQV"
      },
      "execution_count": null,
      "outputs": []
    },
    {
      "cell_type": "code",
      "source": [],
      "metadata": {
        "id": "04NkHpWwSyUM"
      },
      "execution_count": null,
      "outputs": []
    },
    {
      "cell_type": "code",
      "source": [],
      "metadata": {
        "id": "eo9v__FRSyXu"
      },
      "execution_count": null,
      "outputs": []
    }
  ]
}