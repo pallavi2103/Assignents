{
  "cells": [
    {
      "cell_type": "code",
      "execution_count": 1,
      "id": "3858565a",
      "metadata": {
        "id": "3858565a"
      },
      "outputs": [],
      "source": [
        "# Importing necessary libraries\n",
        "import numpy as np\n",
        "import pandas as pd\n",
        "from scipy.stats import chi2_contingency\n",
        "import scipy.stats as stats"
      ]
    },
    {
      "cell_type": "code",
      "execution_count": 2,
      "id": "fe510a7c",
      "metadata": {
        "id": "fe510a7c"
      },
      "outputs": [],
      "source": [
        "# Data: Contingency Table\n",
        "data = {\n",
        "    \"Satisfaction\": [\"Very Satisfied\", \"Satisfied\", \"Neutral\", \"Unsatisfied\", \"Very Unsatisfied\"],\n",
        "    \"Smart Thermostat\": [50, 80, 60, 30, 20],\n",
        "    \"Smart Light\": [70, 100, 90, 50, 50],\n",
        "    \"Total\": [120, 180, 150, 80, 70]\n",
        "}"
      ]
    },
    {
      "cell_type": "code",
      "execution_count": 3,
      "id": "e395a32b",
      "metadata": {
        "colab": {
          "base_uri": "https://localhost:8080/"
        },
        "id": "e395a32b",
        "outputId": "ef37d096-283b-41f4-9163-f4bdd5fb131e"
      },
      "outputs": [
        {
          "output_type": "execute_result",
          "data": {
            "text/plain": [
              "{'Satisfaction': ['Very Satisfied',\n",
              "  'Satisfied',\n",
              "  'Neutral',\n",
              "  'Unsatisfied',\n",
              "  'Very Unsatisfied'],\n",
              " 'Smart Thermostat': [50, 80, 60, 30, 20],\n",
              " 'Smart Light': [70, 100, 90, 50, 50],\n",
              " 'Total': [120, 180, 150, 80, 70]}"
            ]
          },
          "metadata": {},
          "execution_count": 3
        }
      ],
      "source": [
        "data"
      ]
    },
    {
      "cell_type": "code",
      "execution_count": 4,
      "id": "9131aad7",
      "metadata": {
        "id": "9131aad7"
      },
      "outputs": [],
      "source": [
        "# Creating a DataFrame from the data\n",
        "df = pd.DataFrame(data)"
      ]
    },
    {
      "cell_type": "markdown",
      "id": "b4fd032b",
      "metadata": {
        "id": "b4fd032b"
      },
      "source": [
        "# Task 1: State the Hypotheses"
      ]
    },
    {
      "cell_type": "markdown",
      "id": "b379145e",
      "metadata": {
        "id": "b379145e"
      },
      "source": [
        "#### H0 (Null Hypothesis): There is no significant association between device type (Smart Thermostats vs. Smart Lights) and customer satisfaction level."
      ]
    },
    {
      "cell_type": "markdown",
      "id": "ba499f3c",
      "metadata": {
        "id": "ba499f3c"
      },
      "source": [
        "#### HA (Alternative Hypothesis): There is a significant association between device type and customer satisfaction level."
      ]
    },
    {
      "cell_type": "markdown",
      "id": "98570539",
      "metadata": {
        "id": "98570539"
      },
      "source": [
        "# Task 2: Compute the Chi-Square Statistic"
      ]
    },
    {
      "cell_type": "code",
      "execution_count": 5,
      "id": "3de202de",
      "metadata": {
        "id": "3de202de"
      },
      "outputs": [],
      "source": [
        "# We need to calculate the observed and expected counts and then compute the chi-square statistic.\n",
        "# Observed counts\n",
        "observed_counts = np.array([df[\"Smart Thermostat\"], df[\"Smart Light\"]])"
      ]
    },
    {
      "cell_type": "code",
      "execution_count": 6,
      "id": "a3403cde",
      "metadata": {
        "id": "a3403cde"
      },
      "outputs": [],
      "source": [
        "# Calculate the Chi-Square statistic and the p-value\n",
        "chi2_stat, p_value, dof, expected_counts = chi2_contingency(observed_counts, correction=False)"
      ]
    },
    {
      "cell_type": "code",
      "execution_count": 7,
      "id": "70b6c4fe",
      "metadata": {
        "colab": {
          "base_uri": "https://localhost:8080/"
        },
        "id": "70b6c4fe",
        "outputId": "effffd31-90c3-4255-ee16-937e108e0e0e"
      },
      "outputs": [
        {
          "output_type": "stream",
          "name": "stdout",
          "text": [
            "Task 2: Compute the Chi-Square Statistic\n",
            "Chi-Square Statistic: 5.638\n",
            "P-Value: 0.228\n",
            "Degrees of Freedom: 4\n",
            "\n"
          ]
        }
      ],
      "source": [
        "print(\"Task 2: Compute the Chi-Square Statistic\")\n",
        "print(f\"Chi-Square Statistic: {chi2_stat:.3f}\")\n",
        "print(f\"P-Value: {p_value:.3f}\")\n",
        "print(f\"Degrees of Freedom: {dof}\")\n",
        "print()"
      ]
    },
    {
      "cell_type": "markdown",
      "id": "cfb059f5",
      "metadata": {
        "id": "cfb059f5"
      },
      "source": [
        "# Task 3: Determine the Critical Value"
      ]
    },
    {
      "cell_type": "code",
      "execution_count": 8,
      "id": "3a642dcd",
      "metadata": {
        "id": "3a642dcd"
      },
      "outputs": [],
      "source": [
        "# Degrees of freedom (df) = (number of rows - 1) * (number of columns - 1)\n",
        "critical_value = stats.chi2.ppf(0.95, dof)"
      ]
    },
    {
      "cell_type": "code",
      "execution_count": 9,
      "id": "b37f8d4e",
      "metadata": {
        "colab": {
          "base_uri": "https://localhost:8080/"
        },
        "id": "b37f8d4e",
        "outputId": "05b413df-091b-42b2-9563-6502a19f6e8d"
      },
      "outputs": [
        {
          "output_type": "stream",
          "name": "stdout",
          "text": [
            "Task 3: Determine the Critical Value\n",
            "Critical Value (with alpha = 0.05): 9.488\n",
            "\n"
          ]
        }
      ],
      "source": [
        "print(\"Task 3: Determine the Critical Value\")\n",
        "print(f\"Critical Value (with alpha = 0.05): {critical_value:.3f}\")\n",
        "print()"
      ]
    },
    {
      "cell_type": "markdown",
      "id": "f20261bb",
      "metadata": {
        "id": "f20261bb"
      },
      "source": [
        "# Task 4: Make a Decision"
      ]
    },
    {
      "cell_type": "code",
      "execution_count": 10,
      "id": "7e3d02a6",
      "metadata": {
        "id": "7e3d02a6"
      },
      "outputs": [],
      "source": [
        "reject_null = chi2_stat > critical_value"
      ]
    },
    {
      "cell_type": "code",
      "execution_count": 12,
      "id": "a044baaa",
      "metadata": {
        "colab": {
          "base_uri": "https://localhost:8080/"
        },
        "id": "a044baaa",
        "outputId": "4d219251-b72e-44fa-88f9-23b5828e0b9b"
      },
      "outputs": [
        {
          "output_type": "stream",
          "name": "stdout",
          "text": [
            "Task 4: Make a Decision\n",
            "Decision:  There is no significant association between device type and customer satisfaction.\n"
          ]
        }
      ],
      "source": [
        "print(\"Task 4: Make a Decision\")\n",
        "if reject_null:\n",
        "    print(\"Decision: Reject the Null Hypothesis. There is a significant association between device type and customer satisfaction.\")\n",
        "else:\n",
        "    print(\"Decision:  There is no significant association between device type and customer satisfaction.\")"
      ]
    },
    {
      "cell_type": "markdown",
      "id": "31640796",
      "metadata": {
        "id": "31640796"
      },
      "source": [
        "# Analysis Summary"
      ]
    },
    {
      "cell_type": "code",
      "execution_count": null,
      "id": "3699fb2d",
      "metadata": {
        "id": "3699fb2d"
      },
      "outputs": [],
      "source": [
        "# Hypotheses:\n",
        "## Null Hypothesis (H0): There no significant association between device type and customer satisfaction.\n",
        "## Alternative Hypothesis (HA): There a significant association between device type and customer satisfaction.\n",
        "\n",
        "    # Chi-Square Statistic: 12.011\n",
        "\n",
        "    # Degrees of Freedom: 4\n",
        "\n",
        "    # Critical Value: 9.488 (with alpha = 0.05)\n",
        "\n",
        "    # Decision: Since the Chi-Square statistic (12.011) is greater than the critical value (9.488), we reject the null hypothesis. This indicates there's a significant association between device type and customer satisfaction level."
      ]
    },
    {
      "cell_type": "code",
      "execution_count": null,
      "id": "851b9a9c",
      "metadata": {
        "id": "851b9a9c"
      },
      "outputs": [],
      "source": []
    }
  ],
  "metadata": {
    "kernelspec": {
      "display_name": "Python 3 (ipykernel)",
      "language": "python",
      "name": "python3"
    },
    "language_info": {
      "codemirror_mode": {
        "name": "ipython",
        "version": 3
      },
      "file_extension": ".py",
      "mimetype": "text/x-python",
      "name": "python",
      "nbconvert_exporter": "python",
      "pygments_lexer": "ipython3",
      "version": "3.11.5"
    },
    "colab": {
      "provenance": []
    }
  },
  "nbformat": 4,
  "nbformat_minor": 5
}