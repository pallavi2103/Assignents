{
 "cells": [
  {
   "cell_type": "code",
   "execution_count": 2,
   "id": "e47df4ff",
   "metadata": {},
   "outputs": [
    {
     "name": "stdout",
     "output_type": "stream",
     "text": [
      "99% Confidence Interval using Sample Standard Deviation:\n",
      "( 1.090197338451367 , 1.3871359948819662 )\n",
      "\n",
      "99% Confidence Interval using Known Population Standard Deviation:\n",
      "( 1.0849431688867082 , 1.392390164446625 )\n"
     ]
    }
   ],
   "source": [
    "import numpy as np\n",
    "from scipy.stats import t\n",
    "# Sample data\n",
    "durability = np.array([1.13, 1.55, 1.43, 0.92, 1.25, 1.36, 1.32, 0.85, 1.07, 1.48, 1.20, 1.33, 1.18, 1.22, 1.29])\n",
    "#Sample size\n",
    "n = len(durability)\n",
    "#Sample mean\n",
    "mean_durability = np.mean(durability)\n",
    "# Sample standard deviation\n",
    "sample_std = np.std(durability, ddof=1)\n",
    "#Degrees of freedom\n",
    "df = n - 1\n",
    "#Confidence level\n",
    "confidence_level = 0.99\n",
    "#Calculate the t-score\n",
    "t_score = t.ppf((1 + confidence_level) / 2, df)\n",
    "#Margin of error\n",
    "margin_of_error = t_score * (sample_std / np.sqrt(n))\n",
    "#Confidence interval using sample standard deviation\n",
    "confidence_interval_sample_std = (mean_durability - margin_of_error, mean_durability + margin_of_error)\n",
    "print(\"99% Confidence Interval using Sample Standard Deviation:\")\n",
    "print(\"(\", confidence_interval_sample_std[0], \",\", confidence_interval_sample_std[1], \")\")\n",
    "#Population standard deviation\n",
    "population_std = 0.2\n",
    "# Margin of error using known population standard deviation\n",
    "margin_of_error_known_std = t_score * (population_std / np.sqrt(n))\n",
    "# Confidence interval using known population standard deviation\n",
    "confidence_interval_known_std = (mean_durability - margin_of_error_known_std, mean_durability + margin_of_error_known_std)\n",
    "print(\"\\n99% Confidence Interval using Known Population Standard Deviation:\")\n",
    "print(\"(\", confidence_interval_known_std[0], \",\", confidence_interval_known_std[1], \")\")\n"
   ]
  },
  {
   "cell_type": "code",
   "execution_count": null,
   "id": "3ea85b77",
   "metadata": {},
   "outputs": [],
   "source": []
  }
 ],
 "metadata": {
  "kernelspec": {
   "display_name": "Python 3 (ipykernel)",
   "language": "python",
   "name": "python3"
  },
  "language_info": {
   "codemirror_mode": {
    "name": "ipython",
    "version": 3
   },
   "file_extension": ".py",
   "mimetype": "text/x-python",
   "name": "python",
   "nbconvert_exporter": "python",
   "pygments_lexer": "ipython3",
   "version": "3.11.4"
  }
 },
 "nbformat": 4,
 "nbformat_minor": 5
}
