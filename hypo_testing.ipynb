{
  "nbformat": 4,
  "nbformat_minor": 0,
  "metadata": {
    "colab": {
      "provenance": []
    },
    "kernelspec": {
      "name": "python3",
      "display_name": "Python 3"
    },
    "language_info": {
      "name": "python"
    }
  },
  "cells": [
    {
      "cell_type": "code",
      "execution_count": 1,
      "metadata": {
        "id": "ys71HbqflCDJ"
      },
      "outputs": [],
      "source": [
        "import scipy.stats as stats"
      ]
    },
    {
      "cell_type": "code",
      "source": [
        "import pandas as pd\n",
        "import numpy as np\n",
        "# Data\n",
        "sample_mean_cost = 3050  # Weekly cost in rupees (converted from USD)\n",
        "theoretical_mean_cost = 300000  # Weekly cost predicted by model (converted from USD)\n",
        "std_dev = 937.50  # Standard deviation in rupees (converted from USD)\n",
        "sample_size = 25\n",
        "alpha = 0.05  # Significance level"
      ],
      "metadata": {
        "id": "nl-eYSLilKEM"
      },
      "execution_count": 4,
      "outputs": []
    },
    {
      "cell_type": "code",
      "source": [
        "# Calculate test statistic (t)\n",
        "t_statistic = (sample_mean_cost - theoretical_mean_cost) / (std_dev / np.sqrt(sample_size))\n",
        "\n",
        "# Determine critical value for one-tailed test with alpha=0.05\n",
        "critical_value = stats.norm.ppf(1 - alpha)  # Right-tailed critical value\n"
      ],
      "metadata": {
        "id": "CPOSoC02lu6K"
      },
      "execution_count": 7,
      "outputs": []
    },
    {
      "cell_type": "code",
      "source": [
        "# Make decision\n",
        "if t_statistic > critical_value:\n",
        "  print(\"Reject null hypothesis. Restaurant owners' claim is supported.\")\n",
        "else:\n",
        "  print(\"Fail to reject null hypothesis.\")"
      ],
      "metadata": {
        "colab": {
          "base_uri": "https://localhost:8080/"
        },
        "id": "2k2b1XPul8Ua",
        "outputId": "df28da11-31e1-46f7-f5d2-b7e68688d314"
      },
      "execution_count": 8,
      "outputs": [
        {
          "output_type": "stream",
          "name": "stdout",
          "text": [
            "Fail to reject null hypothesis.\n"
          ]
        }
      ]
    },
    {
      "cell_type": "code",
      "source": [],
      "metadata": {
        "id": "PlHanD5pl9VS"
      },
      "execution_count": null,
      "outputs": []
    }
  ]
}